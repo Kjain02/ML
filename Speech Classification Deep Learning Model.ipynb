{
 "cells": [
  {
   "cell_type": "code",
   "execution_count": 14,
   "id": "c02b6e45",
   "metadata": {},
   "outputs": [
    {
     "name": "stdout",
     "output_type": "stream",
     "text": [
      "Requirement already satisfied: librosa in c:\\users\\lenovo\\anaconda3\\lib\\site-packages (0.10.0.post2)\n",
      "Requirement already satisfied: soundfile>=0.12.1 in c:\\users\\lenovo\\anaconda3\\lib\\site-packages (from librosa) (0.12.1)\n",
      "Requirement already satisfied: decorator>=4.3.0 in c:\\users\\lenovo\\anaconda3\\lib\\site-packages (from librosa) (5.1.1)\n",
      "Requirement already satisfied: audioread>=2.1.9 in c:\\users\\lenovo\\anaconda3\\lib\\site-packages (from librosa) (3.0.0)\n",
      "Requirement already satisfied: lazy-loader>=0.1 in c:\\users\\lenovo\\anaconda3\\lib\\site-packages (from librosa) (0.2)\n",
      "Requirement already satisfied: scipy>=1.2.0 in c:\\users\\lenovo\\anaconda3\\lib\\site-packages (from librosa) (1.7.3)\n",
      "Requirement already satisfied: soxr>=0.3.2 in c:\\users\\lenovo\\anaconda3\\lib\\site-packages (from librosa) (0.3.5)\n",
      "Requirement already satisfied: numpy!=1.22.0,!=1.22.1,!=1.22.2,>=1.20.3 in c:\\users\\lenovo\\anaconda3\\lib\\site-packages (from librosa) (1.21.6)\n",
      "Requirement already satisfied: pooch<1.7,>=1.0 in c:\\users\\lenovo\\anaconda3\\lib\\site-packages (from librosa) (1.6.0)\n",
      "Requirement already satisfied: typing-extensions>=4.1.1 in c:\\users\\lenovo\\anaconda3\\lib\\site-packages (from librosa) (4.1.1)\n",
      "Requirement already satisfied: scikit-learn>=0.20.0 in c:\\users\\lenovo\\anaconda3\\lib\\site-packages (from librosa) (1.0.2)\n",
      "Requirement already satisfied: msgpack>=1.0 in c:\\users\\lenovo\\anaconda3\\lib\\site-packages (from librosa) (1.0.2)\n",
      "Requirement already satisfied: numba>=0.51.0 in c:\\users\\lenovo\\anaconda3\\lib\\site-packages (from librosa) (0.55.1)\n",
      "Requirement already satisfied: joblib>=0.14 in c:\\users\\lenovo\\anaconda3\\lib\\site-packages (from librosa) (1.2.0)\n",
      "Requirement already satisfied: llvmlite<0.39,>=0.38.0rc1 in c:\\users\\lenovo\\anaconda3\\lib\\site-packages (from numba>=0.51.0->librosa) (0.38.0)\n",
      "Requirement already satisfied: setuptools in c:\\users\\lenovo\\anaconda3\\lib\\site-packages (from numba>=0.51.0->librosa) (61.2.0)\n",
      "Requirement already satisfied: packaging>=20.0 in c:\\users\\lenovo\\anaconda3\\lib\\site-packages (from pooch<1.7,>=1.0->librosa) (21.3)\n",
      "Requirement already satisfied: requests>=2.19.0 in c:\\users\\lenovo\\anaconda3\\lib\\site-packages (from pooch<1.7,>=1.0->librosa) (2.27.1)\n",
      "Requirement already satisfied: appdirs>=1.3.0 in c:\\users\\lenovo\\anaconda3\\lib\\site-packages (from pooch<1.7,>=1.0->librosa) (1.4.4)\n",
      "Requirement already satisfied: pyparsing!=3.0.5,>=2.0.2 in c:\\users\\lenovo\\anaconda3\\lib\\site-packages (from packaging>=20.0->pooch<1.7,>=1.0->librosa) (3.0.4)\n",
      "Requirement already satisfied: urllib3<1.27,>=1.21.1 in c:\\users\\lenovo\\anaconda3\\lib\\site-packages (from requests>=2.19.0->pooch<1.7,>=1.0->librosa) (1.26.9)\n",
      "Requirement already satisfied: idna<4,>=2.5 in c:\\users\\lenovo\\anaconda3\\lib\\site-packages (from requests>=2.19.0->pooch<1.7,>=1.0->librosa) (3.3)\n",
      "Requirement already satisfied: charset-normalizer~=2.0.0 in c:\\users\\lenovo\\anaconda3\\lib\\site-packages (from requests>=2.19.0->pooch<1.7,>=1.0->librosa) (2.0.4)\n",
      "Requirement already satisfied: certifi>=2017.4.17 in c:\\users\\lenovo\\anaconda3\\lib\\site-packages (from requests>=2.19.0->pooch<1.7,>=1.0->librosa) (2021.10.8)\n",
      "Requirement already satisfied: threadpoolctl>=2.0.0 in c:\\users\\lenovo\\anaconda3\\lib\\site-packages (from scikit-learn>=0.20.0->librosa) (2.2.0)\n",
      "Requirement already satisfied: cffi>=1.0 in c:\\users\\lenovo\\anaconda3\\lib\\site-packages (from soundfile>=0.12.1->librosa) (1.15.0)\n",
      "Requirement already satisfied: pycparser in c:\\users\\lenovo\\anaconda3\\lib\\site-packages (from cffi>=1.0->soundfile>=0.12.1->librosa) (2.21)\n"
     ]
    }
   ],
   "source": [
    "!pip install librosa --user"
   ]
  },
  {
   "cell_type": "code",
   "execution_count": 49,
   "id": "f756bdd2",
   "metadata": {},
   "outputs": [
    {
     "name": "stdout",
     "output_type": "stream",
     "text": [
      "Requirement already satisfied: pandas in c:\\users\\lenovo\\anaconda3\\lib\\site-packages (1.4.2)\n",
      "Requirement already satisfied: pytz>=2020.1 in c:\\users\\lenovo\\anaconda3\\lib\\site-packages (from pandas) (2023.3)\n",
      "Requirement already satisfied: numpy>=1.18.5 in c:\\users\\lenovo\\anaconda3\\lib\\site-packages (from pandas) (1.21.6)\n",
      "Requirement already satisfied: python-dateutil>=2.8.1 in c:\\users\\lenovo\\anaconda3\\lib\\site-packages (from pandas) (2.8.2)\n",
      "Requirement already satisfied: six>=1.5 in c:\\users\\lenovo\\anaconda3\\lib\\site-packages (from python-dateutil>=2.8.1->pandas) (1.16.0)\n"
     ]
    }
   ],
   "source": [
    "!pip install pandas\n"
   ]
  },
  {
   "cell_type": "code",
   "execution_count": 50,
   "id": "6362653d",
   "metadata": {},
   "outputs": [
    {
     "name": "stdout",
     "output_type": "stream",
     "text": [
      "Requirement already satisfied: tqdm in c:\\users\\lenovo\\anaconda3\\lib\\site-packages (4.64.0)\n",
      "Requirement already satisfied: colorama in c:\\users\\lenovo\\anaconda3\\lib\\site-packages (from tqdm) (0.4.4)\n"
     ]
    }
   ],
   "source": [
    "!pip install tqdm"
   ]
  },
  {
   "cell_type": "code",
   "execution_count": 19,
   "id": "97afa66e",
   "metadata": {},
   "outputs": [
    {
     "name": "stdout",
     "output_type": "stream",
     "text": [
      "Requirement already satisfied: tensorflow in c:\\users\\lenovo\\anaconda3\\lib\\site-packages (2.12.0)\n",
      "Requirement already satisfied: tensorflow-intel==2.12.0 in c:\\users\\lenovo\\anaconda3\\lib\\site-packages (from tensorflow) (2.12.0)\n",
      "Requirement already satisfied: grpcio<2.0,>=1.24.3 in c:\\users\\lenovo\\anaconda3\\lib\\site-packages (from tensorflow-intel==2.12.0->tensorflow) (1.56.0)\n",
      "Requirement already satisfied: six>=1.12.0 in c:\\users\\lenovo\\anaconda3\\lib\\site-packages (from tensorflow-intel==2.12.0->tensorflow) (1.16.0)\n",
      "Requirement already satisfied: termcolor>=1.1.0 in c:\\users\\lenovo\\anaconda3\\lib\\site-packages (from tensorflow-intel==2.12.0->tensorflow) (2.3.0)\n",
      "Requirement already satisfied: typing-extensions>=3.6.6 in c:\\users\\lenovo\\anaconda3\\lib\\site-packages (from tensorflow-intel==2.12.0->tensorflow) (4.1.1)\n",
      "Requirement already satisfied: tensorflow-io-gcs-filesystem>=0.23.1 in c:\\users\\lenovo\\anaconda3\\lib\\site-packages (from tensorflow-intel==2.12.0->tensorflow) (0.31.0)\n",
      "Requirement already satisfied: flatbuffers>=2.0 in c:\\users\\lenovo\\anaconda3\\lib\\site-packages (from tensorflow-intel==2.12.0->tensorflow) (23.5.26)\n",
      "Requirement already satisfied: opt-einsum>=2.3.2 in c:\\users\\lenovo\\anaconda3\\lib\\site-packages (from tensorflow-intel==2.12.0->tensorflow) (3.3.0)\n",
      "Requirement already satisfied: wrapt<1.15,>=1.11.0 in c:\\users\\lenovo\\anaconda3\\lib\\site-packages (from tensorflow-intel==2.12.0->tensorflow) (1.12.1)\n",
      "Requirement already satisfied: libclang>=13.0.0 in c:\\users\\lenovo\\anaconda3\\lib\\site-packages (from tensorflow-intel==2.12.0->tensorflow) (16.0.0)\n",
      "Requirement already satisfied: tensorflow-estimator<2.13,>=2.12.0 in c:\\users\\lenovo\\anaconda3\\lib\\site-packages (from tensorflow-intel==2.12.0->tensorflow) (2.12.0)\n",
      "Requirement already satisfied: google-pasta>=0.1.1 in c:\\users\\lenovo\\anaconda3\\lib\\site-packages (from tensorflow-intel==2.12.0->tensorflow) (0.2.0)\n",
      "Requirement already satisfied: gast<=0.4.0,>=0.2.1 in c:\\users\\lenovo\\anaconda3\\lib\\site-packages (from tensorflow-intel==2.12.0->tensorflow) (0.4.0)\n",
      "Requirement already satisfied: astunparse>=1.6.0 in c:\\users\\lenovo\\anaconda3\\lib\\site-packages (from tensorflow-intel==2.12.0->tensorflow) (1.6.3)\n",
      "Requirement already satisfied: h5py>=2.9.0 in c:\\users\\lenovo\\anaconda3\\lib\\site-packages (from tensorflow-intel==2.12.0->tensorflow) (3.6.0)\n",
      "Requirement already satisfied: jax>=0.3.15 in c:\\users\\lenovo\\anaconda3\\lib\\site-packages (from tensorflow-intel==2.12.0->tensorflow) (0.4.13)\n",
      "Requirement already satisfied: packaging in c:\\users\\lenovo\\anaconda3\\lib\\site-packages (from tensorflow-intel==2.12.0->tensorflow) (21.3)\n",
      "Requirement already satisfied: tensorboard<2.13,>=2.12 in c:\\users\\lenovo\\anaconda3\\lib\\site-packages (from tensorflow-intel==2.12.0->tensorflow) (2.12.3)\n",
      "Collecting numpy<1.24,>=1.22\n",
      "  Using cached numpy-1.23.5-cp39-cp39-win_amd64.whl (14.7 MB)\n",
      "Requirement already satisfied: keras<2.13,>=2.12.0 in c:\\users\\lenovo\\anaconda3\\lib\\site-packages (from tensorflow-intel==2.12.0->tensorflow) (2.12.0)\n",
      "Requirement already satisfied: protobuf!=4.21.0,!=4.21.1,!=4.21.2,!=4.21.3,!=4.21.4,!=4.21.5,<5.0.0dev,>=3.20.3 in c:\\users\\lenovo\\anaconda3\\lib\\site-packages (from tensorflow-intel==2.12.0->tensorflow) (4.23.3)\n",
      "Requirement already satisfied: absl-py>=1.0.0 in c:\\users\\lenovo\\anaconda3\\lib\\site-packages (from tensorflow-intel==2.12.0->tensorflow) (1.4.0)\n",
      "Requirement already satisfied: setuptools in c:\\users\\lenovo\\anaconda3\\lib\\site-packages (from tensorflow-intel==2.12.0->tensorflow) (61.2.0)\n",
      "Requirement already satisfied: wheel<1.0,>=0.23.0 in c:\\users\\lenovo\\anaconda3\\lib\\site-packages (from astunparse>=1.6.0->tensorflow-intel==2.12.0->tensorflow) (0.37.1)\n",
      "Requirement already satisfied: ml-dtypes>=0.1.0 in c:\\users\\lenovo\\anaconda3\\lib\\site-packages (from jax>=0.3.15->tensorflow-intel==2.12.0->tensorflow) (0.2.0)\n",
      "Requirement already satisfied: scipy>=1.7 in c:\\users\\lenovo\\anaconda3\\lib\\site-packages (from jax>=0.3.15->tensorflow-intel==2.12.0->tensorflow) (1.7.3)\n",
      "Requirement already satisfied: importlib-metadata>=4.6 in c:\\users\\lenovo\\anaconda3\\lib\\site-packages (from jax>=0.3.15->tensorflow-intel==2.12.0->tensorflow) (4.11.3)\n",
      "Requirement already satisfied: zipp>=0.5 in c:\\users\\lenovo\\anaconda3\\lib\\site-packages (from importlib-metadata>=4.6->jax>=0.3.15->tensorflow-intel==2.12.0->tensorflow) (3.7.0)\n",
      "  Using cached numpy-1.22.4-cp39-cp39-win_amd64.whl (14.7 MB)\n",
      "Requirement already satisfied: tensorboard-data-server<0.8.0,>=0.7.0 in c:\\users\\lenovo\\anaconda3\\lib\\site-packages (from tensorboard<2.13,>=2.12->tensorflow-intel==2.12.0->tensorflow) (0.7.1)\n",
      "Requirement already satisfied: requests<3,>=2.21.0 in c:\\users\\lenovo\\anaconda3\\lib\\site-packages (from tensorboard<2.13,>=2.12->tensorflow-intel==2.12.0->tensorflow) (2.27.1)\n",
      "Requirement already satisfied: markdown>=2.6.8 in c:\\users\\lenovo\\anaconda3\\lib\\site-packages (from tensorboard<2.13,>=2.12->tensorflow-intel==2.12.0->tensorflow) (3.3.4)\n",
      "Requirement already satisfied: google-auth-oauthlib<1.1,>=0.5 in c:\\users\\lenovo\\anaconda3\\lib\\site-packages (from tensorboard<2.13,>=2.12->tensorflow-intel==2.12.0->tensorflow) (1.0.0)\n",
      "Requirement already satisfied: google-auth<3,>=1.6.3 in c:\\users\\lenovo\\anaconda3\\lib\\site-packages (from tensorboard<2.13,>=2.12->tensorflow-intel==2.12.0->tensorflow) (2.21.0)\n",
      "Requirement already satisfied: werkzeug>=1.0.1 in c:\\users\\lenovo\\anaconda3\\lib\\site-packages (from tensorboard<2.13,>=2.12->tensorflow-intel==2.12.0->tensorflow) (2.0.3)\n",
      "Requirement already satisfied: pyasn1-modules>=0.2.1 in c:\\users\\lenovo\\anaconda3\\lib\\site-packages (from google-auth<3,>=1.6.3->tensorboard<2.13,>=2.12->tensorflow-intel==2.12.0->tensorflow) (0.2.8)\n",
      "Requirement already satisfied: cachetools<6.0,>=2.0.0 in c:\\users\\lenovo\\anaconda3\\lib\\site-packages (from google-auth<3,>=1.6.3->tensorboard<2.13,>=2.12->tensorflow-intel==2.12.0->tensorflow) (4.2.2)\n",
      "Requirement already satisfied: urllib3<2.0 in c:\\users\\lenovo\\anaconda3\\lib\\site-packages (from google-auth<3,>=1.6.3->tensorboard<2.13,>=2.12->tensorflow-intel==2.12.0->tensorflow) (1.26.9)\n",
      "Requirement already satisfied: rsa<5,>=3.1.4 in c:\\users\\lenovo\\anaconda3\\lib\\site-packages (from google-auth<3,>=1.6.3->tensorboard<2.13,>=2.12->tensorflow-intel==2.12.0->tensorflow) (4.7.2)\n",
      "Requirement already satisfied: requests-oauthlib>=0.7.0 in c:\\users\\lenovo\\anaconda3\\lib\\site-packages (from google-auth-oauthlib<1.1,>=0.5->tensorboard<2.13,>=2.12->tensorflow-intel==2.12.0->tensorflow) (1.3.1)\n",
      "Requirement already satisfied: pyasn1<0.5.0,>=0.4.6 in c:\\users\\lenovo\\anaconda3\\lib\\site-packages (from pyasn1-modules>=0.2.1->google-auth<3,>=1.6.3->tensorboard<2.13,>=2.12->tensorflow-intel==2.12.0->tensorflow) (0.4.8)\n",
      "Requirement already satisfied: certifi>=2017.4.17 in c:\\users\\lenovo\\anaconda3\\lib\\site-packages (from requests<3,>=2.21.0->tensorboard<2.13,>=2.12->tensorflow-intel==2.12.0->tensorflow) (2021.10.8)\n",
      "Requirement already satisfied: charset-normalizer~=2.0.0 in c:\\users\\lenovo\\anaconda3\\lib\\site-packages (from requests<3,>=2.21.0->tensorboard<2.13,>=2.12->tensorflow-intel==2.12.0->tensorflow) (2.0.4)\n",
      "Requirement already satisfied: idna<4,>=2.5 in c:\\users\\lenovo\\anaconda3\\lib\\site-packages (from requests<3,>=2.21.0->tensorboard<2.13,>=2.12->tensorflow-intel==2.12.0->tensorflow) (3.3)\n",
      "Requirement already satisfied: oauthlib>=3.0.0 in c:\\users\\lenovo\\anaconda3\\lib\\site-packages (from requests-oauthlib>=0.7.0->google-auth-oauthlib<1.1,>=0.5->tensorboard<2.13,>=2.12->tensorflow-intel==2.12.0->tensorflow) (3.2.2)\n",
      "Requirement already satisfied: pyparsing!=3.0.5,>=2.0.2 in c:\\users\\lenovo\\anaconda3\\lib\\site-packages (from packaging->tensorflow-intel==2.12.0->tensorflow) (3.0.4)\n",
      "Installing collected packages: numpy\n",
      "Successfully installed numpy-1.22.4\n"
     ]
    },
    {
     "name": "stderr",
     "output_type": "stream",
     "text": [
      "  WARNING: The script f2py.exe is installed in 'C:\\Users\\LENOVO\\AppData\\Roaming\\Python\\Python39\\Scripts' which is not on PATH.\n",
      "  Consider adding this directory to PATH or, if you prefer to suppress this warning, use --no-warn-script-location.\n",
      "ERROR: pip's dependency resolver does not currently take into account all the packages that are installed. This behaviour is the source of the following dependency conflicts.\n",
      "daal4py 2021.5.0 requires daal==2021.4.0, which is not installed.\n",
      "numba 0.55.1 requires numpy<1.22,>=1.18, but you have numpy 1.22.4 which is incompatible.\n"
     ]
    }
   ],
   "source": [
    "!pip install tensorflow --user"
   ]
  },
  {
   "cell_type": "code",
   "execution_count": 1,
   "id": "afc4b7c1",
   "metadata": {},
   "outputs": [
    {
     "name": "stdout",
     "output_type": "stream",
     "text": [
      "Collecting daal==2021.4.0\n",
      "  Downloading daal-2021.4.0-py2.py3-none-win_amd64.whl (69.0 MB)\n",
      "Collecting tbb==2021.*\n",
      "  Downloading tbb-2021.9.0-py3-none-win_amd64.whl (283 kB)\n",
      "Installing collected packages: tbb, daal\n",
      "  Attempting uninstall: tbb\n",
      "    Found existing installation: TBB 0.2\n"
     ]
    },
    {
     "name": "stderr",
     "output_type": "stream",
     "text": [
      "ERROR: Cannot uninstall 'TBB'. It is a distutils installed project and thus we cannot accurately determine which files belong to it which would lead to only a partial uninstall.\n"
     ]
    }
   ],
   "source": [
    "!pip install daal==2021.4.0"
   ]
  },
  {
   "cell_type": "code",
   "execution_count": 50,
   "id": "4ea76e00",
   "metadata": {},
   "outputs": [
    {
     "name": "stdout",
     "output_type": "stream",
     "text": [
      "Requirement already satisfied: numpy==1.22 in c:\\users\\lenovo\\anaconda3\\lib\\site-packages (1.22.0)\n"
     ]
    }
   ],
   "source": [
    "!pip install numpy==1.22"
   ]
  },
  {
   "cell_type": "code",
   "execution_count": 23,
   "id": "78b1c8c0",
   "metadata": {},
   "outputs": [
    {
     "name": "stdout",
     "output_type": "stream",
     "text": [
      "WARNING:tensorflow:From C:\\Users\\LENOVO\\AppData\\Local\\Temp\\ipykernel_20108\\2773141869.py:1: is_gpu_available (from tensorflow.python.framework.test_util) is deprecated and will be removed in a future version.\n",
      "Instructions for updating:\n",
      "Use `tf.config.list_physical_devices('GPU')` instead.\n",
      "True\n"
     ]
    }
   ],
   "source": [
    "print(tf.test.is_gpu_available())"
   ]
  },
  {
   "cell_type": "code",
   "execution_count": 2,
   "id": "8b6997f3",
   "metadata": {},
   "outputs": [],
   "source": [
    "import numpy as np"
   ]
  },
  {
   "cell_type": "code",
   "execution_count": 3,
   "id": "6504e48e",
   "metadata": {},
   "outputs": [],
   "source": [
    "\n",
    "import matplotlib.pyplot as plt\n",
    "%matplotlib inline\n",
    "import IPython.display as ipd\n",
    "import librosa\n",
    "import librosa.display\n",
    "import pandas as pd\n",
    "import os"
   ]
  },
  {
   "cell_type": "code",
   "execution_count": 3,
   "id": "ac88e119",
   "metadata": {},
   "outputs": [
    {
     "data": {
      "text/plain": [
       "'1.22.4'"
      ]
     },
     "execution_count": 3,
     "metadata": {},
     "output_type": "execute_result"
    }
   ],
   "source": [
    "np.__version__"
   ]
  },
  {
   "cell_type": "code",
   "execution_count": 4,
   "id": "c0f31895",
   "metadata": {},
   "outputs": [],
   "source": [
    "filename = 'UrbanSound8K/dog_bark.wav'\n"
   ]
  },
  {
   "cell_type": "code",
   "execution_count": 5,
   "id": "be7ccfb0",
   "metadata": {},
   "outputs": [
    {
     "data": {
      "text/html": [
       "\n",
       "                <audio  controls=\"controls\" >\n",
       "                    <source src=\"data:audio/wav;base64,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\" type=\"audio/wav\" />\n",
       "                    Your browser does not support the audio element.\n",
       "                </audio>\n",
       "              "
      ],
      "text/plain": [
       "<IPython.lib.display.Audio object>"
      ]
     },
     "execution_count": 5,
     "metadata": {},
     "output_type": "execute_result"
    },
    {
     "data": {
      "image/png": "[encoded data removed]",
      "text/plain": [
       "<Figure size 1080x432 with 1 Axes>"
      ]
     },
     "metadata": {
      "needs_background": "light"
     },
     "output_type": "display_data"
    }
   ],
   "source": [
    "plt.figure(figsize=(15,6))\n",
    "librosa_data, sample_rate = librosa.load(filename)\n",
    "librosa.display.waveshow(librosa_data, sr=sample_rate)\n",
    "ipd.Audio(filename)"
   ]
  },
  {
   "cell_type": "code",
   "execution_count": 6,
   "id": "0cd1db02",
   "metadata": {},
   "outputs": [
    {
     "name": "stdout",
     "output_type": "stream",
     "text": [
      "(88200,)\n"
     ]
    },
    {
     "data": {
      "text/plain": [
       "array([0.00856121, 0.02041664, 0.0270719 , ..., 0.00203417, 0.00166276,\n",
       "       0.00083364], dtype=float32)"
      ]
     },
     "execution_count": 6,
     "metadata": {},
     "output_type": "execute_result"
    }
   ],
   "source": [
    "print(librosa_data.shape)\n",
    "librosa_data"
   ]
  },
  {
   "cell_type": "code",
   "execution_count": 7,
   "id": "a1ac54af",
   "metadata": {},
   "outputs": [
    {
     "data": {
      "text/plain": [
       "22050"
      ]
     },
     "execution_count": 7,
     "metadata": {},
     "output_type": "execute_result"
    }
   ],
   "source": [
    "sample_rate"
   ]
  },
  {
   "cell_type": "code",
   "execution_count": 8,
   "id": "7755f6ca",
   "metadata": {},
   "outputs": [
    {
     "data": {
      "text/plain": [
       "array([[-380,  941],\n",
       "       [ 299, 1475],\n",
       "       [-266, 1036],\n",
       "       ...,\n",
       "       [-316,  433],\n",
       "       [-318,  443],\n",
       "       [-324,  436]], dtype=int16)"
      ]
     },
     "execution_count": 8,
     "metadata": {},
     "output_type": "execute_result"
    }
   ],
   "source": [
    "from scipy.io import wavfile as wav\n",
    "\n",
    "wav_sample_rate, wav_data = wav.read(filename)\n",
    "wav_data\n"
   ]
  },
  {
   "cell_type": "code",
   "execution_count": 9,
   "id": "b0c43416",
   "metadata": {},
   "outputs": [
    {
     "data": {
      "text/plain": [
       "11025"
      ]
     },
     "execution_count": 9,
     "metadata": {},
     "output_type": "execute_result"
    }
   ],
   "source": [
    "wav_sample_rate"
   ]
  },
  {
   "cell_type": "code",
   "execution_count": 10,
   "id": "c343925b",
   "metadata": {},
   "outputs": [
    {
     "data": {
      "text/plain": [
       "[<matplotlib.lines.Line2D at 0x1fa3808f9a0>,\n",
       " <matplotlib.lines.Line2D at 0x1fa4032c400>]"
      ]
     },
     "execution_count": 10,
     "metadata": {},
     "output_type": "execute_result"
    },
    {
     "data": {
      "image/png": "[encoded data removed]",
      "text/plain": [
       "<Figure size 1080x432 with 1 Axes>"
      ]
     },
     "metadata": {
      "needs_background": "light"
     },
     "output_type": "display_data"
    }
   ],
   "source": [
    "plt.figure(figsize=(15,6))\n",
    "plt.plot(wav_data)"
   ]
  },
  {
   "cell_type": "code",
   "execution_count": 11,
   "id": "d8a68055",
   "metadata": {},
   "outputs": [
    {
     "data": {
      "text/html": [
       "<div>\n",
       "<style scoped>\n",
       "    .dataframe tbody tr th:only-of-type {\n",
       "        vertical-align: middle;\n",
       "    }\n",
       "\n",
       "    .dataframe tbody tr th {\n",
       "        vertical-align: top;\n",
       "    }\n",
       "\n",
       "    .dataframe thead th {\n",
       "        text-align: right;\n",
       "    }\n",
       "</style>\n",
       "<table border=\"1\" class=\"dataframe\">\n",
       "  <thead>\n",
       "    <tr style=\"text-align: right;\">\n",
       "      <th></th>\n",
       "      <th>slice_file_name</th>\n",
       "      <th>fsID</th>\n",
       "      <th>start</th>\n",
       "      <th>end</th>\n",
       "      <th>salience</th>\n",
       "      <th>fold</th>\n",
       "      <th>classID</th>\n",
       "      <th>class</th>\n",
       "    </tr>\n",
       "  </thead>\n",
       "  <tbody>\n",
       "    <tr>\n",
       "      <th>0</th>\n",
       "      <td>100032-3-0-0.wav</td>\n",
       "      <td>100032</td>\n",
       "      <td>0.000000</td>\n",
       "      <td>0.317551</td>\n",
       "      <td>1</td>\n",
       "      <td>5</td>\n",
       "      <td>3</td>\n",
       "      <td>dog_bark</td>\n",
       "    </tr>\n",
       "    <tr>\n",
       "      <th>1</th>\n",
       "      <td>100263-2-0-117.wav</td>\n",
       "      <td>100263</td>\n",
       "      <td>58.500000</td>\n",
       "      <td>62.500000</td>\n",
       "      <td>1</td>\n",
       "      <td>5</td>\n",
       "      <td>2</td>\n",
       "      <td>children_playing</td>\n",
       "    </tr>\n",
       "    <tr>\n",
       "      <th>2</th>\n",
       "      <td>100263-2-0-121.wav</td>\n",
       "      <td>100263</td>\n",
       "      <td>60.500000</td>\n",
       "      <td>64.500000</td>\n",
       "      <td>1</td>\n",
       "      <td>5</td>\n",
       "      <td>2</td>\n",
       "      <td>children_playing</td>\n",
       "    </tr>\n",
       "    <tr>\n",
       "      <th>3</th>\n",
       "      <td>100263-2-0-126.wav</td>\n",
       "      <td>100263</td>\n",
       "      <td>63.000000</td>\n",
       "      <td>67.000000</td>\n",
       "      <td>1</td>\n",
       "      <td>5</td>\n",
       "      <td>2</td>\n",
       "      <td>children_playing</td>\n",
       "    </tr>\n",
       "    <tr>\n",
       "      <th>4</th>\n",
       "      <td>100263-2-0-137.wav</td>\n",
       "      <td>100263</td>\n",
       "      <td>68.500000</td>\n",
       "      <td>72.500000</td>\n",
       "      <td>1</td>\n",
       "      <td>5</td>\n",
       "      <td>2</td>\n",
       "      <td>children_playing</td>\n",
       "    </tr>\n",
       "    <tr>\n",
       "      <th>...</th>\n",
       "      <td>...</td>\n",
       "      <td>...</td>\n",
       "      <td>...</td>\n",
       "      <td>...</td>\n",
       "      <td>...</td>\n",
       "      <td>...</td>\n",
       "      <td>...</td>\n",
       "      <td>...</td>\n",
       "    </tr>\n",
       "    <tr>\n",
       "      <th>8727</th>\n",
       "      <td>99812-1-2-0.wav</td>\n",
       "      <td>99812</td>\n",
       "      <td>159.522205</td>\n",
       "      <td>163.522205</td>\n",
       "      <td>2</td>\n",
       "      <td>7</td>\n",
       "      <td>1</td>\n",
       "      <td>car_horn</td>\n",
       "    </tr>\n",
       "    <tr>\n",
       "      <th>8728</th>\n",
       "      <td>99812-1-3-0.wav</td>\n",
       "      <td>99812</td>\n",
       "      <td>181.142431</td>\n",
       "      <td>183.284976</td>\n",
       "      <td>2</td>\n",
       "      <td>7</td>\n",
       "      <td>1</td>\n",
       "      <td>car_horn</td>\n",
       "    </tr>\n",
       "    <tr>\n",
       "      <th>8729</th>\n",
       "      <td>99812-1-4-0.wav</td>\n",
       "      <td>99812</td>\n",
       "      <td>242.691902</td>\n",
       "      <td>246.197885</td>\n",
       "      <td>2</td>\n",
       "      <td>7</td>\n",
       "      <td>1</td>\n",
       "      <td>car_horn</td>\n",
       "    </tr>\n",
       "    <tr>\n",
       "      <th>8730</th>\n",
       "      <td>99812-1-5-0.wav</td>\n",
       "      <td>99812</td>\n",
       "      <td>253.209850</td>\n",
       "      <td>255.741948</td>\n",
       "      <td>2</td>\n",
       "      <td>7</td>\n",
       "      <td>1</td>\n",
       "      <td>car_horn</td>\n",
       "    </tr>\n",
       "    <tr>\n",
       "      <th>8731</th>\n",
       "      <td>99812-1-6-0.wav</td>\n",
       "      <td>99812</td>\n",
       "      <td>332.289233</td>\n",
       "      <td>334.821332</td>\n",
       "      <td>2</td>\n",
       "      <td>7</td>\n",
       "      <td>1</td>\n",
       "      <td>car_horn</td>\n",
       "    </tr>\n",
       "  </tbody>\n",
       "</table>\n",
       "<p>8732 rows × 8 columns</p>\n",
       "</div>"
      ],
      "text/plain": [
       "         slice_file_name    fsID       start         end  salience  fold  \\\n",
       "0       100032-3-0-0.wav  100032    0.000000    0.317551         1     5   \n",
       "1     100263-2-0-117.wav  100263   58.500000   62.500000         1     5   \n",
       "2     100263-2-0-121.wav  100263   60.500000   64.500000         1     5   \n",
       "3     100263-2-0-126.wav  100263   63.000000   67.000000         1     5   \n",
       "4     100263-2-0-137.wav  100263   68.500000   72.500000         1     5   \n",
       "...                  ...     ...         ...         ...       ...   ...   \n",
       "8727     99812-1-2-0.wav   99812  159.522205  163.522205         2     7   \n",
       "8728     99812-1-3-0.wav   99812  181.142431  183.284976         2     7   \n",
       "8729     99812-1-4-0.wav   99812  242.691902  246.197885         2     7   \n",
       "8730     99812-1-5-0.wav   99812  253.209850  255.741948         2     7   \n",
       "8731     99812-1-6-0.wav   99812  332.289233  334.821332         2     7   \n",
       "\n",
       "      classID             class  \n",
       "0           3          dog_bark  \n",
       "1           2  children_playing  \n",
       "2           2  children_playing  \n",
       "3           2  children_playing  \n",
       "4           2  children_playing  \n",
       "...       ...               ...  \n",
       "8727        1          car_horn  \n",
       "8728        1          car_horn  \n",
       "8729        1          car_horn  \n",
       "8730        1          car_horn  \n",
       "8731        1          car_horn  \n",
       "\n",
       "[8732 rows x 8 columns]"
      ]
     },
     "execution_count": 11,
     "metadata": {},
     "output_type": "execute_result"
    }
   ],
   "source": [
    "metadata = pd.read_csv('UrbanSound8K/metadata/UrbanSound8K.csv')\n",
    "\n",
    "metadata"
   ]
  },
  {
   "cell_type": "code",
   "execution_count": 12,
   "id": "30ae37b9",
   "metadata": {},
   "outputs": [
    {
     "data": {
      "text/plain": [
       "Int64Index([6133], dtype='int64')"
      ]
     },
     "execution_count": 12,
     "metadata": {},
     "output_type": "execute_result"
    }
   ],
   "source": [
    "name = metadata.index[metadata['slice_file_name']=='34050-7-5-0.wav']\n",
    "name"
   ]
  },
  {
   "cell_type": "code",
   "execution_count": 13,
   "id": "63b58f78",
   "metadata": {},
   "outputs": [
    {
     "data": {
      "text/plain": [
       "slice_file_name    34050-7-5-0.wav\n",
       "fsID                         34050\n",
       "start                    24.457791\n",
       "end                      26.658146\n",
       "salience                         2\n",
       "fold                            10\n",
       "classID                          7\n",
       "class                   jackhammer\n",
       "Name: 6133, dtype: object"
      ]
     },
     "execution_count": 13,
     "metadata": {},
     "output_type": "execute_result"
    }
   ],
   "source": [
    "metadata.iloc[6133]"
   ]
  },
  {
   "cell_type": "code",
   "execution_count": 14,
   "id": "6f5d0128",
   "metadata": {},
   "outputs": [
    {
     "data": {
      "text/plain": [
       "array(['dog_bark', 'children_playing', 'car_horn', 'air_conditioner',\n",
       "       'street_music', 'gun_shot', 'siren', 'engine_idling', 'jackhammer',\n",
       "       'drilling'], dtype=object)"
      ]
     },
     "execution_count": 14,
     "metadata": {},
     "output_type": "execute_result"
    }
   ],
   "source": [
    "metadata['class'].unique()"
   ]
  },
  {
   "cell_type": "code",
   "execution_count": 15,
   "id": "8b5a1e17",
   "metadata": {},
   "outputs": [
    {
     "data": {
      "text/plain": [
       "dog_bark            1000\n",
       "children_playing    1000\n",
       "air_conditioner     1000\n",
       "street_music        1000\n",
       "engine_idling       1000\n",
       "jackhammer          1000\n",
       "drilling            1000\n",
       "siren                929\n",
       "car_horn             429\n",
       "gun_shot             374\n",
       "Name: class, dtype: int64"
      ]
     },
     "execution_count": 15,
     "metadata": {},
     "output_type": "execute_result"
    }
   ],
   "source": [
    "metadata['class'].value_counts()"
   ]
  },
  {
   "cell_type": "markdown",
   "id": "445981b7",
   "metadata": {},
   "source": [
    "# Features extraction"
   ]
  },
  {
   "cell_type": "code",
   "execution_count": 16,
   "id": "82f0ee21",
   "metadata": {},
   "outputs": [
    {
     "data": {
      "text/plain": [
       "(40, 173)"
      ]
     },
     "execution_count": 16,
     "metadata": {},
     "output_type": "execute_result"
    }
   ],
   "source": [
    "mfccs = librosa.feature.mfcc(y=librosa_data, sr=sample_rate, n_mfcc=40)  # mfcc--> Mel-Feature Cepstrum Coefficients\n",
    "mfccs.shape"
   ]
  },
  {
   "cell_type": "code",
   "execution_count": 17,
   "id": "c84bfe0a",
   "metadata": {},
   "outputs": [
    {
     "data": {
      "text/plain": [
       "array([[-3.0465457e+02, -3.0076831e+02, -3.2697015e+02, ...,\n",
       "        -4.8570035e+02, -4.9850476e+02, -4.9910956e+02],\n",
       "       [ 9.6802315e+01,  9.5446594e+01,  8.7721756e+01, ...,\n",
       "         2.8050846e+01,  1.6862579e+01,  1.8292789e+01],\n",
       "       [-4.4262650e+01, -5.3070976e+01, -4.9587814e+01, ...,\n",
       "         7.9917254e+00,  9.6012268e+00,  1.5320711e+01],\n",
       "       ...,\n",
       "       [-3.5441158e+00, -5.0144629e+00, -6.2928600e+00, ...,\n",
       "         4.9601898e+00,  2.9500425e-01, -3.8347876e-01],\n",
       "       [-2.0438571e+00, -4.3356323e+00, -8.1547928e+00, ...,\n",
       "         3.6727118e+00, -1.4211738e-01, -4.7214252e-01],\n",
       "       [ 2.0813515e+00,  1.0038717e+00, -9.0400684e-01, ...,\n",
       "         4.3910780e+00,  5.8815897e-01,  2.0350271e-01]], dtype=float32)"
      ]
     },
     "execution_count": 17,
     "metadata": {},
     "output_type": "execute_result"
    }
   ],
   "source": [
    "mfccs"
   ]
  },
  {
   "cell_type": "code",
   "execution_count": 18,
   "id": "a4b0b837",
   "metadata": {},
   "outputs": [
    {
     "data": {
      "text/html": [
       "<div>\n",
       "<style scoped>\n",
       "    .dataframe tbody tr th:only-of-type {\n",
       "        vertical-align: middle;\n",
       "    }\n",
       "\n",
       "    .dataframe tbody tr th {\n",
       "        vertical-align: top;\n",
       "    }\n",
       "\n",
       "    .dataframe thead th {\n",
       "        text-align: right;\n",
       "    }\n",
       "</style>\n",
       "<table border=\"1\" class=\"dataframe\">\n",
       "  <thead>\n",
       "    <tr style=\"text-align: right;\">\n",
       "      <th></th>\n",
       "      <th>slice_file_name</th>\n",
       "      <th>fsID</th>\n",
       "      <th>start</th>\n",
       "      <th>end</th>\n",
       "      <th>salience</th>\n",
       "      <th>fold</th>\n",
       "      <th>classID</th>\n",
       "      <th>class</th>\n",
       "    </tr>\n",
       "  </thead>\n",
       "  <tbody>\n",
       "    <tr>\n",
       "      <th>0</th>\n",
       "      <td>100032-3-0-0.wav</td>\n",
       "      <td>100032</td>\n",
       "      <td>0.000000</td>\n",
       "      <td>0.317551</td>\n",
       "      <td>1</td>\n",
       "      <td>5</td>\n",
       "      <td>3</td>\n",
       "      <td>dog_bark</td>\n",
       "    </tr>\n",
       "    <tr>\n",
       "      <th>1</th>\n",
       "      <td>100263-2-0-117.wav</td>\n",
       "      <td>100263</td>\n",
       "      <td>58.500000</td>\n",
       "      <td>62.500000</td>\n",
       "      <td>1</td>\n",
       "      <td>5</td>\n",
       "      <td>2</td>\n",
       "      <td>children_playing</td>\n",
       "    </tr>\n",
       "    <tr>\n",
       "      <th>2</th>\n",
       "      <td>100263-2-0-121.wav</td>\n",
       "      <td>100263</td>\n",
       "      <td>60.500000</td>\n",
       "      <td>64.500000</td>\n",
       "      <td>1</td>\n",
       "      <td>5</td>\n",
       "      <td>2</td>\n",
       "      <td>children_playing</td>\n",
       "    </tr>\n",
       "    <tr>\n",
       "      <th>3</th>\n",
       "      <td>100263-2-0-126.wav</td>\n",
       "      <td>100263</td>\n",
       "      <td>63.000000</td>\n",
       "      <td>67.000000</td>\n",
       "      <td>1</td>\n",
       "      <td>5</td>\n",
       "      <td>2</td>\n",
       "      <td>children_playing</td>\n",
       "    </tr>\n",
       "    <tr>\n",
       "      <th>4</th>\n",
       "      <td>100263-2-0-137.wav</td>\n",
       "      <td>100263</td>\n",
       "      <td>68.500000</td>\n",
       "      <td>72.500000</td>\n",
       "      <td>1</td>\n",
       "      <td>5</td>\n",
       "      <td>2</td>\n",
       "      <td>children_playing</td>\n",
       "    </tr>\n",
       "    <tr>\n",
       "      <th>...</th>\n",
       "      <td>...</td>\n",
       "      <td>...</td>\n",
       "      <td>...</td>\n",
       "      <td>...</td>\n",
       "      <td>...</td>\n",
       "      <td>...</td>\n",
       "      <td>...</td>\n",
       "      <td>...</td>\n",
       "    </tr>\n",
       "    <tr>\n",
       "      <th>8727</th>\n",
       "      <td>99812-1-2-0.wav</td>\n",
       "      <td>99812</td>\n",
       "      <td>159.522205</td>\n",
       "      <td>163.522205</td>\n",
       "      <td>2</td>\n",
       "      <td>7</td>\n",
       "      <td>1</td>\n",
       "      <td>car_horn</td>\n",
       "    </tr>\n",
       "    <tr>\n",
       "      <th>8728</th>\n",
       "      <td>99812-1-3-0.wav</td>\n",
       "      <td>99812</td>\n",
       "      <td>181.142431</td>\n",
       "      <td>183.284976</td>\n",
       "      <td>2</td>\n",
       "      <td>7</td>\n",
       "      <td>1</td>\n",
       "      <td>car_horn</td>\n",
       "    </tr>\n",
       "    <tr>\n",
       "      <th>8729</th>\n",
       "      <td>99812-1-4-0.wav</td>\n",
       "      <td>99812</td>\n",
       "      <td>242.691902</td>\n",
       "      <td>246.197885</td>\n",
       "      <td>2</td>\n",
       "      <td>7</td>\n",
       "      <td>1</td>\n",
       "      <td>car_horn</td>\n",
       "    </tr>\n",
       "    <tr>\n",
       "      <th>8730</th>\n",
       "      <td>99812-1-5-0.wav</td>\n",
       "      <td>99812</td>\n",
       "      <td>253.209850</td>\n",
       "      <td>255.741948</td>\n",
       "      <td>2</td>\n",
       "      <td>7</td>\n",
       "      <td>1</td>\n",
       "      <td>car_horn</td>\n",
       "    </tr>\n",
       "    <tr>\n",
       "      <th>8731</th>\n",
       "      <td>99812-1-6-0.wav</td>\n",
       "      <td>99812</td>\n",
       "      <td>332.289233</td>\n",
       "      <td>334.821332</td>\n",
       "      <td>2</td>\n",
       "      <td>7</td>\n",
       "      <td>1</td>\n",
       "      <td>car_horn</td>\n",
       "    </tr>\n",
       "  </tbody>\n",
       "</table>\n",
       "<p>8732 rows × 8 columns</p>\n",
       "</div>"
      ],
      "text/plain": [
       "         slice_file_name    fsID       start         end  salience  fold  \\\n",
       "0       100032-3-0-0.wav  100032    0.000000    0.317551         1     5   \n",
       "1     100263-2-0-117.wav  100263   58.500000   62.500000         1     5   \n",
       "2     100263-2-0-121.wav  100263   60.500000   64.500000         1     5   \n",
       "3     100263-2-0-126.wav  100263   63.000000   67.000000         1     5   \n",
       "4     100263-2-0-137.wav  100263   68.500000   72.500000         1     5   \n",
       "...                  ...     ...         ...         ...       ...   ...   \n",
       "8727     99812-1-2-0.wav   99812  159.522205  163.522205         2     7   \n",
       "8728     99812-1-3-0.wav   99812  181.142431  183.284976         2     7   \n",
       "8729     99812-1-4-0.wav   99812  242.691902  246.197885         2     7   \n",
       "8730     99812-1-5-0.wav   99812  253.209850  255.741948         2     7   \n",
       "8731     99812-1-6-0.wav   99812  332.289233  334.821332         2     7   \n",
       "\n",
       "      classID             class  \n",
       "0           3          dog_bark  \n",
       "1           2  children_playing  \n",
       "2           2  children_playing  \n",
       "3           2  children_playing  \n",
       "4           2  children_playing  \n",
       "...       ...               ...  \n",
       "8727        1          car_horn  \n",
       "8728        1          car_horn  \n",
       "8729        1          car_horn  \n",
       "8730        1          car_horn  \n",
       "8731        1          car_horn  \n",
       "\n",
       "[8732 rows x 8 columns]"
      ]
     },
     "execution_count": 18,
     "metadata": {},
     "output_type": "execute_result"
    }
   ],
   "source": [
    "metadata"
   ]
  },
  {
   "cell_type": "code",
   "execution_count": 19,
   "id": "744a4e65",
   "metadata": {},
   "outputs": [],
   "source": [
    "def feature_extractor(filename):\n",
    "    audio_data, sample_rate = librosa.load(filename)\n",
    "    mfccs_features = librosa.feature.mfcc(y=audio_data, sr=sample_rate, n_mfcc=40)\n",
    "    mfccs_scaled_features = np.mean(mfccs_features.T, axis=0)\n",
    "    \n",
    "    return mfccs_scaled_features"
   ]
  },
  {
   "cell_type": "code",
   "execution_count": 20,
   "id": "f9fbd7a0",
   "metadata": {},
   "outputs": [],
   "source": [
    "audio_dataset_path = 'UrbanSound8K/audio/'"
   ]
  },
  {
   "cell_type": "code",
   "execution_count": 21,
   "id": "17a4945e",
   "metadata": {},
   "outputs": [
    {
     "name": "stderr",
     "output_type": "stream",
     "text": [
      "3550it [00:56, 61.27it/s]C:\\Users\\LENOVO\\anaconda3\\lib\\site-packages\\librosa\\core\\spectrum.py:256: UserWarning: n_fft=2048 is too large for input signal of length=1323\n",
      "  warnings.warn(\n",
      "8321it [02:14, 72.67it/s]C:\\Users\\LENOVO\\anaconda3\\lib\\site-packages\\librosa\\core\\spectrum.py:256: UserWarning: n_fft=2048 is too large for input signal of length=1103\n",
      "  warnings.warn(\n",
      "C:\\Users\\LENOVO\\anaconda3\\lib\\site-packages\\librosa\\core\\spectrum.py:256: UserWarning: n_fft=2048 is too large for input signal of length=1523\n",
      "  warnings.warn(\n",
      "8732it [02:20, 62.01it/s]\n"
     ]
    }
   ],
   "source": [
    "from tqdm import tqdm\n",
    "\n",
    "extracted_features = []\n",
    "for idx, row in tqdm(metadata.iterrows()):\n",
    "    filename = os.path.join(os.path.abspath(audio_dataset_path), 'fold'+str(row['fold'])+'/'+str(row['slice_file_name']))\n",
    "    class_label = row['class']\n",
    "    data = feature_extractor(filename)\n",
    "    extracted_features.append([data,class_label])"
   ]
  },
  {
   "cell_type": "code",
   "execution_count": 24,
   "id": "0b90f6b8",
   "metadata": {},
   "outputs": [
    {
     "data": {
      "text/html": [
       "<div>\n",
       "<style scoped>\n",
       "    .dataframe tbody tr th:only-of-type {\n",
       "        vertical-align: middle;\n",
       "    }\n",
       "\n",
       "    .dataframe tbody tr th {\n",
       "        vertical-align: top;\n",
       "    }\n",
       "\n",
       "    .dataframe thead th {\n",
       "        text-align: right;\n",
       "    }\n",
       "</style>\n",
       "<table border=\"1\" class=\"dataframe\">\n",
       "  <thead>\n",
       "    <tr style=\"text-align: right;\">\n",
       "      <th></th>\n",
       "      <th>features</th>\n",
       "      <th>class</th>\n",
       "    </tr>\n",
       "  </thead>\n",
       "  <tbody>\n",
       "    <tr>\n",
       "      <th>0</th>\n",
       "      <td>[-211.93698, 62.581203, -122.81315, -60.745293...</td>\n",
       "      <td>dog_bark</td>\n",
       "    </tr>\n",
       "    <tr>\n",
       "      <th>1</th>\n",
       "      <td>[-417.0052, 99.336624, -42.995586, 51.073326, ...</td>\n",
       "      <td>children_playing</td>\n",
       "    </tr>\n",
       "    <tr>\n",
       "      <th>2</th>\n",
       "      <td>[-452.39316, 112.36253, -37.578068, 43.195866,...</td>\n",
       "      <td>children_playing</td>\n",
       "    </tr>\n",
       "    <tr>\n",
       "      <th>3</th>\n",
       "      <td>[-406.47922, 91.1966, -25.043558, 42.78452, 11...</td>\n",
       "      <td>children_playing</td>\n",
       "    </tr>\n",
       "    <tr>\n",
       "      <th>4</th>\n",
       "      <td>[-439.63867, 103.86223, -42.658787, 50.690277,...</td>\n",
       "      <td>children_playing</td>\n",
       "    </tr>\n",
       "    <tr>\n",
       "      <th>...</th>\n",
       "      <td>...</td>\n",
       "      <td>...</td>\n",
       "    </tr>\n",
       "    <tr>\n",
       "      <th>8727</th>\n",
       "      <td>[-391.3721, 125.36239, -40.634056, 25.899754, ...</td>\n",
       "      <td>car_horn</td>\n",
       "    </tr>\n",
       "    <tr>\n",
       "      <th>8728</th>\n",
       "      <td>[-339.42715, 76.409096, -35.30988, 41.984035, ...</td>\n",
       "      <td>car_horn</td>\n",
       "    </tr>\n",
       "    <tr>\n",
       "      <th>8729</th>\n",
       "      <td>[-297.31534, 102.09026, -36.75108, 26.816486, ...</td>\n",
       "      <td>car_horn</td>\n",
       "    </tr>\n",
       "    <tr>\n",
       "      <th>8730</th>\n",
       "      <td>[-336.92386, 115.3139, -44.8471, 24.968985, -9...</td>\n",
       "      <td>car_horn</td>\n",
       "    </tr>\n",
       "    <tr>\n",
       "      <th>8731</th>\n",
       "      <td>[-307.4176, 83.30673, -25.756512, 35.44811, 4....</td>\n",
       "      <td>car_horn</td>\n",
       "    </tr>\n",
       "  </tbody>\n",
       "</table>\n",
       "<p>8732 rows × 2 columns</p>\n",
       "</div>"
      ],
      "text/plain": [
       "                                               features             class\n",
       "0     [-211.93698, 62.581203, -122.81315, -60.745293...          dog_bark\n",
       "1     [-417.0052, 99.336624, -42.995586, 51.073326, ...  children_playing\n",
       "2     [-452.39316, 112.36253, -37.578068, 43.195866,...  children_playing\n",
       "3     [-406.47922, 91.1966, -25.043558, 42.78452, 11...  children_playing\n",
       "4     [-439.63867, 103.86223, -42.658787, 50.690277,...  children_playing\n",
       "...                                                 ...               ...\n",
       "8727  [-391.3721, 125.36239, -40.634056, 25.899754, ...          car_horn\n",
       "8728  [-339.42715, 76.409096, -35.30988, 41.984035, ...          car_horn\n",
       "8729  [-297.31534, 102.09026, -36.75108, 26.816486, ...          car_horn\n",
       "8730  [-336.92386, 115.3139, -44.8471, 24.968985, -9...          car_horn\n",
       "8731  [-307.4176, 83.30673, -25.756512, 35.44811, 4....          car_horn\n",
       "\n",
       "[8732 rows x 2 columns]"
      ]
     },
     "execution_count": 24,
     "metadata": {},
     "output_type": "execute_result"
    }
   ],
   "source": [
    "extracted_features_df = pd.DataFrame(extracted_features, columns=['features', 'class'])\n",
    "extracted_features_df"
   ]
  },
  {
   "cell_type": "code",
   "execution_count": 32,
   "id": "d88b97fb",
   "metadata": {},
   "outputs": [],
   "source": [
    "X = np.array(extracted_features_df['features'].tolist())\n",
    "y= np.array(extracted_features_df['class'].tolist())"
   ]
  },
  {
   "cell_type": "code",
   "execution_count": 33,
   "id": "6f4827eb",
   "metadata": {},
   "outputs": [
    {
     "data": {
      "text/plain": [
       "(8732, 40)"
      ]
     },
     "execution_count": 33,
     "metadata": {},
     "output_type": "execute_result"
    }
   ],
   "source": [
    "X.shape"
   ]
  },
  {
   "cell_type": "code",
   "execution_count": 34,
   "id": "38e5225d",
   "metadata": {},
   "outputs": [
    {
     "data": {
      "text/plain": [
       "(8732,)"
      ]
     },
     "execution_count": 34,
     "metadata": {},
     "output_type": "execute_result"
    }
   ],
   "source": [
    "y.shape"
   ]
  },
  {
   "cell_type": "code",
   "execution_count": 35,
   "id": "561e6d06",
   "metadata": {},
   "outputs": [],
   "source": [
    "#y = pd.get_dummies(y)\n",
    "\n",
    "from tensorflow.keras.utils import to_categorical\n",
    "from sklearn.preprocessing import LabelEncoder\n",
    "\n"
   ]
  },
  {
   "cell_type": "code",
   "execution_count": 67,
   "id": "f400a28a",
   "metadata": {},
   "outputs": [
    {
     "data": {
      "text/plain": [
       "array([3, 2, 1, 0, 9, 6, 8, 5, 7, 4], dtype=int64)"
      ]
     },
     "execution_count": 67,
     "metadata": {},
     "output_type": "execute_result"
    }
   ],
   "source": [
    "a = labelencoder.fit_transform(y)\n",
    "a = pd.DataFrame(a)\n",
    "a[0].unique()"
   ]
  },
  {
   "cell_type": "code",
   "execution_count": 68,
   "id": "00a7b57d",
   "metadata": {},
   "outputs": [],
   "source": [
    "labelencoder = LabelEncoder()\n",
    "y = to_categorical(labelencoder.fit_transform(y))"
   ]
  },
  {
   "cell_type": "code",
   "execution_count": 71,
   "id": "8dde18cb",
   "metadata": {},
   "outputs": [
    {
     "data": {
      "text/plain": [
       "array([[0., 0., 0., ..., 0., 0., 0.],\n",
       "       [0., 0., 1., ..., 0., 0., 0.],\n",
       "       [0., 0., 1., ..., 0., 0., 0.],\n",
       "       ...,\n",
       "       [0., 1., 0., ..., 0., 0., 0.],\n",
       "       [0., 1., 0., ..., 0., 0., 0.],\n",
       "       [0., 1., 0., ..., 0., 0., 0.]], dtype=float32)"
      ]
     },
     "execution_count": 71,
     "metadata": {},
     "output_type": "execute_result"
    }
   ],
   "source": [
    "y"
   ]
  },
  {
   "cell_type": "code",
   "execution_count": 72,
   "id": "31a60b04",
   "metadata": {},
   "outputs": [],
   "source": [
    "total_labels = y.shape[1]"
   ]
  },
  {
   "cell_type": "code",
   "execution_count": 73,
   "id": "cd9b1242",
   "metadata": {},
   "outputs": [],
   "source": [
    "from sklearn.model_selection import train_test_split\n",
    "\n",
    "X_train,X_test,y_train,y_test = train_test_split(X,y,test_size=0.2, random_state = 321)"
   ]
  },
  {
   "cell_type": "code",
   "execution_count": 74,
   "id": "f64453d4",
   "metadata": {},
   "outputs": [],
   "source": [
    "X_train_tuner,X_val,y_train_tuner,y_val = train_test_split(X_train,y_train,test_size=0.2, random_state = 321)"
   ]
  },
  {
   "cell_type": "code",
   "execution_count": 75,
   "id": "1e5edef8",
   "metadata": {},
   "outputs": [
    {
     "data": {
      "text/plain": [
       "(5588, 40)"
      ]
     },
     "execution_count": 75,
     "metadata": {},
     "output_type": "execute_result"
    }
   ],
   "source": [
    "X_train_tuner.shape"
   ]
  },
  {
   "cell_type": "code",
   "execution_count": 76,
   "id": "2c4ffa32",
   "metadata": {},
   "outputs": [
    {
     "data": {
      "text/plain": [
       "(5588, 10)"
      ]
     },
     "execution_count": 76,
     "metadata": {},
     "output_type": "execute_result"
    }
   ],
   "source": [
    "y_train_tuner.shape"
   ]
  },
  {
   "cell_type": "code",
   "execution_count": 77,
   "id": "ccadf5d5",
   "metadata": {},
   "outputs": [
    {
     "data": {
      "text/plain": [
       "(1747, 10)"
      ]
     },
     "execution_count": 77,
     "metadata": {},
     "output_type": "execute_result"
    }
   ],
   "source": [
    "y_test.shape"
   ]
  },
  {
   "cell_type": "code",
   "execution_count": 78,
   "id": "30901321",
   "metadata": {},
   "outputs": [
    {
     "data": {
      "text/plain": [
       "(1397, 40)"
      ]
     },
     "execution_count": 78,
     "metadata": {},
     "output_type": "execute_result"
    }
   ],
   "source": [
    "X_val.shape"
   ]
  },
  {
   "cell_type": "code",
   "execution_count": 79,
   "id": "4517ef78",
   "metadata": {},
   "outputs": [],
   "source": [
    "import tensorflow as tf\n"
   ]
  },
  {
   "cell_type": "code",
   "execution_count": 37,
   "id": "9f75a910",
   "metadata": {
    "scrolled": true
   },
   "outputs": [
    {
     "name": "stdout",
     "output_type": "stream",
     "text": [
      "Requirement already satisfied: keras-tuner in c:\\users\\lenovo\\anaconda3\\lib\\site-packages (1.3.5)\n",
      "Requirement already satisfied: requests in c:\\users\\lenovo\\anaconda3\\lib\\site-packages (from keras-tuner) (2.27.1)\n",
      "Requirement already satisfied: packaging in c:\\users\\lenovo\\anaconda3\\lib\\site-packages (from keras-tuner) (21.3)\n",
      "Requirement already satisfied: kt-legacy in c:\\users\\lenovo\\anaconda3\\lib\\site-packages (from keras-tuner) (1.0.5)\n",
      "Requirement already satisfied: pyparsing!=3.0.5,>=2.0.2 in c:\\users\\lenovo\\anaconda3\\lib\\site-packages (from packaging->keras-tuner) (3.0.4)\n",
      "Requirement already satisfied: certifi>=2017.4.17 in c:\\users\\lenovo\\anaconda3\\lib\\site-packages (from requests->keras-tuner) (2021.10.8)\n",
      "Requirement already satisfied: urllib3<1.27,>=1.21.1 in c:\\users\\lenovo\\anaconda3\\lib\\site-packages (from requests->keras-tuner) (1.26.9)\n",
      "Requirement already satisfied: charset-normalizer~=2.0.0 in c:\\users\\lenovo\\anaconda3\\lib\\site-packages (from requests->keras-tuner) (2.0.4)\n",
      "Requirement already satisfied: idna<4,>=2.5 in c:\\users\\lenovo\\anaconda3\\lib\\site-packages (from requests->keras-tuner) (3.3)\n"
     ]
    }
   ],
   "source": [
    "!pip install -U keras-tuner"
   ]
  },
  {
   "cell_type": "code",
   "execution_count": 80,
   "id": "bdba1672",
   "metadata": {},
   "outputs": [],
   "source": [
    "from tensorflow.keras import layers"
   ]
  },
  {
   "cell_type": "code",
   "execution_count": 81,
   "id": "2f3edd3d",
   "metadata": {},
   "outputs": [],
   "source": [
    "from tensorflow.keras.models import Sequential\n",
    "from tensorflow.keras.layers import Dense, Dropout, Activation, Flatten\n",
    "from tensorflow.keras.optimizers import Adam\n",
    "from sklearn import metrics\n",
    "import keras_tuner\n",
    "from keras_tuner import RandomSearch"
   ]
  },
  {
   "cell_type": "code",
   "execution_count": 82,
   "id": "e3c1d160",
   "metadata": {},
   "outputs": [],
   "source": [
    "hp = keras_tuner.HyperParameters()\n"
   ]
  },
  {
   "cell_type": "code",
   "execution_count": 83,
   "id": "03440db3",
   "metadata": {},
   "outputs": [],
   "source": [
    "def build_model(hp):\n",
    "    model = Sequential()\n",
    "    model.add(layers.Flatten())\n",
    "    for i in range(hp.Int(\"num_layers\", 1, 10)):\n",
    "        model.add(layers.Dense(hp.Int(f'units_{i}', min_value=32, max_value=512, step=32), activation='relu'))\n",
    "        if hp.Boolean(f'dropout_{i}'):\n",
    "            model.add(layers.Dropout(0.25))\n",
    "            \n",
    "    model.add(layers.Dense(units=total_labels, activation='softmax'))\n",
    "              \n",
    "    learning_rate = hp.Float('ls', min_value=0.00001, max_value=0.001, sampling='log')\n",
    "    model.compile(optimizer=Adam(learning_rate=learning_rate), loss='categorical_crossentropy', metrics=['accuracy'])\n",
    "              \n",
    "    return model "
   ]
  },
  {
   "cell_type": "code",
   "execution_count": 84,
   "id": "b2535ba7",
   "metadata": {},
   "outputs": [],
   "source": [
    "tuner = RandomSearch(\n",
    "    hypermodel=build_model,\n",
    "    objective='val_accuracy',\n",
    "    max_trials=10,\n",
    "    directory=\"F:\",\n",
    "    project_name=\"tuned_ANN_speech\"\n",
    "    )"
   ]
  },
  {
   "cell_type": "code",
   "execution_count": 85,
   "id": "5be8016e",
   "metadata": {},
   "outputs": [
    {
     "name": "stdout",
     "output_type": "stream",
     "text": [
      "Search space summary\n",
      "Default search space size: 4\n",
      "num_layers (Int)\n",
      "{'default': None, 'conditions': [], 'min_value': 1, 'max_value': 10, 'step': 1, 'sampling': 'linear'}\n",
      "units_0 (Int)\n",
      "{'default': None, 'conditions': [], 'min_value': 32, 'max_value': 512, 'step': 32, 'sampling': 'linear'}\n",
      "dropout_0 (Boolean)\n",
      "{'default': False, 'conditions': []}\n",
      "ls (Float)\n",
      "{'default': 1e-05, 'conditions': [], 'min_value': 1e-05, 'max_value': 0.001, 'step': None, 'sampling': 'log'}\n"
     ]
    }
   ],
   "source": [
    "tuner.search_space_summary()"
   ]
  },
  {
   "cell_type": "code",
   "execution_count": 86,
   "id": "5a99c218",
   "metadata": {
    "scrolled": true
   },
   "outputs": [
    {
     "name": "stdout",
     "output_type": "stream",
     "text": [
      "Trial 10 Complete [00h 00m 43s]\n",
      "val_accuracy: 0.9105225205421448\n",
      "\n",
      "Best val_accuracy So Far: 0.9105225205421448\n",
      "Total elapsed time: 00h 05m 43s\n",
      "INFO:tensorflow:Oracle triggered exit\n"
     ]
    }
   ],
   "source": [
    "tuner.search(X_train_tuner, y_train_tuner, epochs=50, validation_data=(X_val, y_val), verbose=1)"
   ]
  },
  {
   "cell_type": "code",
   "execution_count": 87,
   "id": "cb224089",
   "metadata": {},
   "outputs": [
    {
     "name": "stdout",
     "output_type": "stream",
     "text": [
      "Results summary\n",
      "Results in F:tuned_ANN_speech\n",
      "Showing 10 best trials\n",
      "Objective(name=\"val_accuracy\", direction=\"max\")\n",
      "\n",
      "Trial 09 summary\n",
      "Hyperparameters:\n",
      "num_layers: 9\n",
      "units_0: 416\n",
      "dropout_0: False\n",
      "ls: 0.0007282286591355298\n",
      "units_1: 352\n",
      "dropout_1: False\n",
      "units_2: 448\n",
      "dropout_2: True\n",
      "units_3: 128\n",
      "dropout_3: False\n",
      "units_4: 416\n",
      "dropout_4: False\n",
      "units_5: 352\n",
      "dropout_5: True\n",
      "units_6: 512\n",
      "dropout_6: True\n",
      "units_7: 32\n",
      "dropout_7: False\n",
      "units_8: 32\n",
      "dropout_8: False\n",
      "Score: 0.9105225205421448\n",
      "\n",
      "Trial 00 summary\n",
      "Hyperparameters:\n",
      "num_layers: 1\n",
      "units_0: 512\n",
      "dropout_0: False\n",
      "ls: 0.0006851781534735413\n",
      "Score: 0.9040801525115967\n",
      "\n",
      "Trial 06 summary\n",
      "Hyperparameters:\n",
      "num_layers: 7\n",
      "units_0: 256\n",
      "dropout_0: True\n",
      "ls: 0.00028073927945585647\n",
      "units_1: 448\n",
      "dropout_1: True\n",
      "units_2: 384\n",
      "dropout_2: True\n",
      "units_3: 288\n",
      "dropout_3: False\n",
      "units_4: 128\n",
      "dropout_4: True\n",
      "units_5: 32\n",
      "dropout_5: False\n",
      "units_6: 32\n",
      "dropout_6: False\n",
      "Score: 0.8718683123588562\n",
      "\n",
      "Trial 01 summary\n",
      "Hyperparameters:\n",
      "num_layers: 5\n",
      "units_0: 192\n",
      "dropout_0: True\n",
      "ls: 0.0003814120220610665\n",
      "units_1: 32\n",
      "dropout_1: False\n",
      "units_2: 32\n",
      "dropout_2: False\n",
      "units_3: 32\n",
      "dropout_3: False\n",
      "units_4: 32\n",
      "dropout_4: False\n",
      "Score: 0.8224767446517944\n",
      "\n",
      "Trial 04 summary\n",
      "Hyperparameters:\n",
      "num_layers: 1\n",
      "units_0: 320\n",
      "dropout_0: False\n",
      "ls: 0.0001280403302147333\n",
      "units_1: 96\n",
      "dropout_1: False\n",
      "units_2: 96\n",
      "dropout_2: False\n",
      "units_3: 320\n",
      "dropout_3: True\n",
      "units_4: 32\n",
      "dropout_4: False\n",
      "Score: 0.8045812249183655\n",
      "\n",
      "Trial 07 summary\n",
      "Hyperparameters:\n",
      "num_layers: 1\n",
      "units_0: 64\n",
      "dropout_0: False\n",
      "ls: 0.00022261711101035104\n",
      "units_1: 320\n",
      "dropout_1: False\n",
      "units_2: 128\n",
      "dropout_2: True\n",
      "units_3: 128\n",
      "dropout_3: False\n",
      "units_4: 416\n",
      "dropout_4: False\n",
      "units_5: 96\n",
      "dropout_5: True\n",
      "units_6: 480\n",
      "dropout_6: False\n",
      "Score: 0.7315676212310791\n",
      "\n",
      "Trial 03 summary\n",
      "Hyperparameters:\n",
      "num_layers: 3\n",
      "units_0: 192\n",
      "dropout_0: False\n",
      "ls: 1.336490177695986e-05\n",
      "units_1: 288\n",
      "dropout_1: True\n",
      "units_2: 320\n",
      "dropout_2: False\n",
      "units_3: 480\n",
      "dropout_3: False\n",
      "units_4: 416\n",
      "dropout_4: True\n",
      "Score: 0.7086614370346069\n",
      "\n",
      "Trial 05 summary\n",
      "Hyperparameters:\n",
      "num_layers: 1\n",
      "units_0: 256\n",
      "dropout_0: False\n",
      "ls: 2.971306121913663e-05\n",
      "units_1: 128\n",
      "dropout_1: True\n",
      "units_2: 448\n",
      "dropout_2: False\n",
      "units_3: 160\n",
      "dropout_3: True\n",
      "units_4: 416\n",
      "dropout_4: True\n",
      "Score: 0.6950608491897583\n",
      "\n",
      "Trial 02 summary\n",
      "Hyperparameters:\n",
      "num_layers: 5\n",
      "units_0: 288\n",
      "dropout_0: True\n",
      "ls: 2.009278334806508e-05\n",
      "units_1: 32\n",
      "dropout_1: True\n",
      "units_2: 224\n",
      "dropout_2: False\n",
      "units_3: 480\n",
      "dropout_3: False\n",
      "units_4: 288\n",
      "dropout_4: False\n",
      "Score: 0.49248388409614563\n",
      "\n",
      "Trial 08 summary\n",
      "Hyperparameters:\n",
      "num_layers: 4\n",
      "units_0: 192\n",
      "dropout_0: True\n",
      "ls: 6.714558191249014e-05\n",
      "units_1: 256\n",
      "dropout_1: False\n",
      "units_2: 512\n",
      "dropout_2: True\n",
      "units_3: 32\n",
      "dropout_3: True\n",
      "units_4: 480\n",
      "dropout_4: True\n",
      "units_5: 512\n",
      "dropout_5: True\n",
      "units_6: 320\n",
      "dropout_6: False\n",
      "Score: 0.24910522997379303\n"
     ]
    }
   ],
   "source": [
    "tuner.results_summary()"
   ]
  },
  {
   "cell_type": "code",
   "execution_count": 88,
   "id": "594fa6fe",
   "metadata": {},
   "outputs": [],
   "source": [
    "best_hp = tuner.get_best_hyperparameters()[0]\n",
    "model = tuner.hypermodel.build(best_hp)"
   ]
  },
  {
   "cell_type": "code",
   "execution_count": 91,
   "id": "ddd83681",
   "metadata": {},
   "outputs": [
    {
     "name": "stdout",
     "output_type": "stream",
     "text": [
      "Model: \"sequential_1\"\n",
      "_________________________________________________________________\n",
      " Layer (type)                Output Shape              Param #   \n",
      "=================================================================\n",
      " flatten_1 (Flatten)         (None, 40)                0         \n",
      "                                                                 \n",
      " dense_10 (Dense)            (None, 416)               17056     \n",
      "                                                                 \n",
      " dense_11 (Dense)            (None, 352)               146784    \n",
      "                                                                 \n",
      " dense_12 (Dense)            (None, 448)               158144    \n",
      "                                                                 \n",
      " dropout_3 (Dropout)         (None, 448)               0         \n",
      "                                                                 \n",
      " dense_13 (Dense)            (None, 128)               57472     \n",
      "                                                                 \n",
      " dense_14 (Dense)            (None, 416)               53664     \n",
      "                                                                 \n",
      " dense_15 (Dense)            (None, 352)               146784    \n",
      "                                                                 \n",
      " dropout_4 (Dropout)         (None, 352)               0         \n",
      "                                                                 \n",
      " dense_16 (Dense)            (None, 512)               180736    \n",
      "                                                                 \n",
      " dropout_5 (Dropout)         (None, 512)               0         \n",
      "                                                                 \n",
      " dense_17 (Dense)            (None, 32)                16416     \n",
      "                                                                 \n",
      " dense_18 (Dense)            (None, 32)                1056      \n",
      "                                                                 \n",
      " dense_19 (Dense)            (None, 10)                330       \n",
      "                                                                 \n",
      "=================================================================\n",
      "Total params: 778,442\n",
      "Trainable params: 778,442\n",
      "Non-trainable params: 0\n",
      "_________________________________________________________________\n"
     ]
    }
   ],
   "source": [
    "model.build(input_shape=(None, 40))\n",
    "model.summary()"
   ]
  },
  {
   "cell_type": "code",
   "execution_count": 92,
   "id": "7d8cbd19",
   "metadata": {
    "scrolled": true
   },
   "outputs": [
    {
     "name": "stdout",
     "output_type": "stream",
     "text": [
      "Epoch 1/100\n",
      "110/110 [==============================] - 1s 7ms/step - loss: 2.1450 - accuracy: 0.2037 - val_loss: 1.8277 - val_accuracy: 0.3406\n",
      "Epoch 2/100\n",
      "110/110 [==============================] - 1s 5ms/step - loss: 1.6876 - accuracy: 0.3994 - val_loss: 1.4717 - val_accuracy: 0.4940\n",
      "Epoch 3/100\n",
      "110/110 [==============================] - 1s 5ms/step - loss: 1.3722 - accuracy: 0.5173 - val_loss: 1.1494 - val_accuracy: 0.6199\n",
      "Epoch 4/100\n",
      "110/110 [==============================] - 1s 5ms/step - loss: 1.2072 - accuracy: 0.5926 - val_loss: 1.1135 - val_accuracy: 0.6331\n",
      "Epoch 5/100\n",
      "110/110 [==============================] - 1s 5ms/step - loss: 1.0695 - accuracy: 0.6399 - val_loss: 0.9184 - val_accuracy: 0.7041\n",
      "Epoch 6/100\n",
      "110/110 [==============================] - 1s 5ms/step - loss: 0.9379 - accuracy: 0.6876 - val_loss: 0.8190 - val_accuracy: 0.7264\n",
      "Epoch 7/100\n",
      "110/110 [==============================] - 1s 5ms/step - loss: 0.8258 - accuracy: 0.7210 - val_loss: 0.7704 - val_accuracy: 0.7499\n",
      "Epoch 8/100\n",
      "110/110 [==============================] - 1s 5ms/step - loss: 0.7106 - accuracy: 0.7684 - val_loss: 0.7185 - val_accuracy: 0.7710\n",
      "Epoch 9/100\n",
      "110/110 [==============================] - 1s 5ms/step - loss: 0.6453 - accuracy: 0.7841 - val_loss: 0.6714 - val_accuracy: 0.7859\n",
      "Epoch 10/100\n",
      "110/110 [==============================] - 1s 5ms/step - loss: 0.5763 - accuracy: 0.8109 - val_loss: 0.6052 - val_accuracy: 0.8145\n",
      "Epoch 11/100\n",
      "110/110 [==============================] - 1s 5ms/step - loss: 0.5470 - accuracy: 0.8206 - val_loss: 0.6222 - val_accuracy: 0.8008\n",
      "Epoch 12/100\n",
      "110/110 [==============================] - 1s 6ms/step - loss: 0.4835 - accuracy: 0.8407 - val_loss: 0.5561 - val_accuracy: 0.8260\n",
      "Epoch 13/100\n",
      "110/110 [==============================] - 1s 6ms/step - loss: 0.4699 - accuracy: 0.8419 - val_loss: 0.5603 - val_accuracy: 0.8191\n",
      "Epoch 14/100\n",
      "110/110 [==============================] - 1s 5ms/step - loss: 0.4365 - accuracy: 0.8564 - val_loss: 0.5609 - val_accuracy: 0.8277\n",
      "Epoch 15/100\n",
      "110/110 [==============================] - 1s 5ms/step - loss: 0.3670 - accuracy: 0.8767 - val_loss: 0.4753 - val_accuracy: 0.8586\n",
      "Epoch 16/100\n",
      "110/110 [==============================] - 0s 5ms/step - loss: 0.3374 - accuracy: 0.8912 - val_loss: 0.5184 - val_accuracy: 0.8598\n",
      "Epoch 17/100\n",
      "110/110 [==============================] - 1s 5ms/step - loss: 0.3522 - accuracy: 0.8883 - val_loss: 0.4622 - val_accuracy: 0.8678\n",
      "Epoch 18/100\n",
      "110/110 [==============================] - 1s 6ms/step - loss: 0.3255 - accuracy: 0.8898 - val_loss: 0.4352 - val_accuracy: 0.8769\n",
      "Epoch 19/100\n",
      "110/110 [==============================] - 1s 5ms/step - loss: 0.2813 - accuracy: 0.9088 - val_loss: 0.3894 - val_accuracy: 0.8935\n",
      "Epoch 20/100\n",
      "110/110 [==============================] - 1s 5ms/step - loss: 0.2616 - accuracy: 0.9157 - val_loss: 0.4547 - val_accuracy: 0.8769\n",
      "Epoch 21/100\n",
      "110/110 [==============================] - 1s 6ms/step - loss: 0.2729 - accuracy: 0.9162 - val_loss: 0.4388 - val_accuracy: 0.8752\n",
      "Epoch 22/100\n",
      "110/110 [==============================] - 1s 5ms/step - loss: 0.2131 - accuracy: 0.9301 - val_loss: 0.4452 - val_accuracy: 0.8855\n",
      "Epoch 23/100\n",
      "110/110 [==============================] - 1s 5ms/step - loss: 0.2213 - accuracy: 0.9307 - val_loss: 0.3827 - val_accuracy: 0.8941\n",
      "Epoch 24/100\n",
      "110/110 [==============================] - 1s 5ms/step - loss: 0.2160 - accuracy: 0.9300 - val_loss: 0.4614 - val_accuracy: 0.8918\n",
      "Epoch 25/100\n",
      "110/110 [==============================] - 1s 5ms/step - loss: 0.1863 - accuracy: 0.9379 - val_loss: 0.3662 - val_accuracy: 0.9090\n",
      "Epoch 26/100\n",
      "110/110 [==============================] - 1s 5ms/step - loss: 0.1881 - accuracy: 0.9435 - val_loss: 0.4266 - val_accuracy: 0.8861\n",
      "Epoch 27/100\n",
      "110/110 [==============================] - 1s 5ms/step - loss: 0.1669 - accuracy: 0.9459 - val_loss: 0.3830 - val_accuracy: 0.9084\n",
      "Epoch 28/100\n",
      "110/110 [==============================] - 1s 5ms/step - loss: 0.1543 - accuracy: 0.9513 - val_loss: 0.5138 - val_accuracy: 0.8746\n",
      "Epoch 29/100\n",
      "110/110 [==============================] - 1s 5ms/step - loss: 0.1410 - accuracy: 0.9555 - val_loss: 0.4106 - val_accuracy: 0.9056\n",
      "Epoch 30/100\n",
      "110/110 [==============================] - 1s 5ms/step - loss: 0.1186 - accuracy: 0.9611 - val_loss: 0.3971 - val_accuracy: 0.9096\n",
      "Epoch 31/100\n",
      "110/110 [==============================] - 1s 5ms/step - loss: 0.1190 - accuracy: 0.9641 - val_loss: 0.3811 - val_accuracy: 0.9044\n",
      "Epoch 32/100\n",
      "110/110 [==============================] - 1s 5ms/step - loss: 0.1220 - accuracy: 0.9611 - val_loss: 0.6410 - val_accuracy: 0.8855\n",
      "Epoch 33/100\n",
      "110/110 [==============================] - 1s 5ms/step - loss: 0.1295 - accuracy: 0.9589 - val_loss: 0.3622 - val_accuracy: 0.9216\n",
      "Epoch 34/100\n",
      "110/110 [==============================] - 1s 5ms/step - loss: 0.1168 - accuracy: 0.9645 - val_loss: 0.3690 - val_accuracy: 0.9141\n",
      "Epoch 35/100\n",
      "110/110 [==============================] - 1s 5ms/step - loss: 0.1061 - accuracy: 0.9668 - val_loss: 0.4027 - val_accuracy: 0.8998\n",
      "Epoch 36/100\n",
      "110/110 [==============================] - 1s 5ms/step - loss: 0.1019 - accuracy: 0.9694 - val_loss: 0.4266 - val_accuracy: 0.9090\n",
      "Epoch 37/100\n",
      "110/110 [==============================] - 1s 5ms/step - loss: 0.1312 - accuracy: 0.9598 - val_loss: 0.4371 - val_accuracy: 0.9015\n",
      "Epoch 38/100\n",
      "110/110 [==============================] - 1s 5ms/step - loss: 0.1323 - accuracy: 0.9611 - val_loss: 0.4145 - val_accuracy: 0.9107\n",
      "Epoch 39/100\n",
      "110/110 [==============================] - 1s 5ms/step - loss: 0.1169 - accuracy: 0.9672 - val_loss: 0.3834 - val_accuracy: 0.9193\n",
      "Epoch 40/100\n",
      "110/110 [==============================] - 1s 5ms/step - loss: 0.0778 - accuracy: 0.9777 - val_loss: 0.4040 - val_accuracy: 0.8975\n",
      "Epoch 41/100\n",
      "110/110 [==============================] - 1s 5ms/step - loss: 0.1176 - accuracy: 0.9631 - val_loss: 0.3718 - val_accuracy: 0.9193\n",
      "Epoch 42/100\n",
      "110/110 [==============================] - 1s 5ms/step - loss: 0.0853 - accuracy: 0.9737 - val_loss: 0.4218 - val_accuracy: 0.9107\n",
      "Epoch 43/100\n",
      "110/110 [==============================] - 1s 5ms/step - loss: 0.1038 - accuracy: 0.9715 - val_loss: 0.3572 - val_accuracy: 0.9170\n",
      "Epoch 44/100\n",
      "110/110 [==============================] - 1s 5ms/step - loss: 0.0717 - accuracy: 0.9788 - val_loss: 0.3522 - val_accuracy: 0.9164\n",
      "Epoch 45/100\n",
      "110/110 [==============================] - 1s 5ms/step - loss: 0.0842 - accuracy: 0.9745 - val_loss: 0.3855 - val_accuracy: 0.9244\n",
      "Epoch 46/100\n",
      "110/110 [==============================] - 1s 5ms/step - loss: 0.0786 - accuracy: 0.9759 - val_loss: 0.3950 - val_accuracy: 0.9147\n",
      "Epoch 47/100\n",
      "110/110 [==============================] - 1s 6ms/step - loss: 0.0639 - accuracy: 0.9814 - val_loss: 0.4444 - val_accuracy: 0.9124\n",
      "Epoch 48/100\n",
      "110/110 [==============================] - 1s 6ms/step - loss: 0.0838 - accuracy: 0.9744 - val_loss: 0.3856 - val_accuracy: 0.9244\n",
      "Epoch 49/100\n",
      "110/110 [==============================] - 1s 5ms/step - loss: 0.0719 - accuracy: 0.9791 - val_loss: 0.3455 - val_accuracy: 0.9250\n",
      "Epoch 50/100\n",
      "110/110 [==============================] - 1s 5ms/step - loss: 0.0424 - accuracy: 0.9870 - val_loss: 0.4166 - val_accuracy: 0.9256\n",
      "Epoch 51/100\n",
      "110/110 [==============================] - 1s 5ms/step - loss: 0.0534 - accuracy: 0.9848 - val_loss: 0.4207 - val_accuracy: 0.9227\n",
      "Epoch 52/100\n",
      "110/110 [==============================] - 1s 5ms/step - loss: 0.0670 - accuracy: 0.9807 - val_loss: 0.4660 - val_accuracy: 0.9084\n",
      "Epoch 53/100\n",
      "110/110 [==============================] - 1s 5ms/step - loss: 0.0958 - accuracy: 0.9745 - val_loss: 0.3672 - val_accuracy: 0.9250\n",
      "Epoch 54/100\n",
      "110/110 [==============================] - 1s 5ms/step - loss: 0.0609 - accuracy: 0.9822 - val_loss: 0.3805 - val_accuracy: 0.9307\n",
      "Epoch 55/100\n",
      "110/110 [==============================] - 1s 5ms/step - loss: 0.0592 - accuracy: 0.9857 - val_loss: 0.3310 - val_accuracy: 0.9250\n",
      "Epoch 56/100\n",
      "110/110 [==============================] - 1s 5ms/step - loss: 0.0686 - accuracy: 0.9802 - val_loss: 0.3872 - val_accuracy: 0.9250\n",
      "Epoch 57/100\n",
      "110/110 [==============================] - 1s 5ms/step - loss: 0.0485 - accuracy: 0.9851 - val_loss: 0.3754 - val_accuracy: 0.9273\n"
     ]
    },
    {
     "name": "stdout",
     "output_type": "stream",
     "text": [
      "Epoch 58/100\n",
      "110/110 [==============================] - 1s 5ms/step - loss: 0.0667 - accuracy: 0.9832 - val_loss: 0.3462 - val_accuracy: 0.9153\n",
      "Epoch 59/100\n",
      "110/110 [==============================] - 1s 5ms/step - loss: 0.0382 - accuracy: 0.9888 - val_loss: 0.4065 - val_accuracy: 0.9176\n",
      "Epoch 60/100\n",
      "110/110 [==============================] - 0s 4ms/step - loss: 0.0377 - accuracy: 0.9873 - val_loss: 0.4184 - val_accuracy: 0.9204\n",
      "Epoch 61/100\n",
      "110/110 [==============================] - 1s 5ms/step - loss: 0.0394 - accuracy: 0.9880 - val_loss: 0.4041 - val_accuracy: 0.9222\n",
      "Epoch 62/100\n",
      "110/110 [==============================] - 1s 5ms/step - loss: 0.0682 - accuracy: 0.9808 - val_loss: 0.4857 - val_accuracy: 0.9136\n",
      "Epoch 63/100\n",
      "110/110 [==============================] - 1s 5ms/step - loss: 0.0505 - accuracy: 0.9843 - val_loss: 0.4732 - val_accuracy: 0.9193\n",
      "Epoch 64/100\n",
      "110/110 [==============================] - 1s 5ms/step - loss: 0.0676 - accuracy: 0.9807 - val_loss: 0.3945 - val_accuracy: 0.9227\n",
      "Epoch 65/100\n",
      "110/110 [==============================] - 1s 5ms/step - loss: 0.0671 - accuracy: 0.9812 - val_loss: 0.3976 - val_accuracy: 0.9113\n",
      "Epoch 66/100\n",
      "110/110 [==============================] - 1s 5ms/step - loss: 0.0339 - accuracy: 0.9894 - val_loss: 0.4222 - val_accuracy: 0.9267\n",
      "Epoch 67/100\n",
      "110/110 [==============================] - 1s 6ms/step - loss: 0.0931 - accuracy: 0.9735 - val_loss: 0.3493 - val_accuracy: 0.9222\n",
      "Epoch 68/100\n",
      "110/110 [==============================] - 1s 5ms/step - loss: 0.0999 - accuracy: 0.9751 - val_loss: 0.3350 - val_accuracy: 0.9222\n",
      "Epoch 69/100\n",
      "110/110 [==============================] - 1s 5ms/step - loss: 0.0491 - accuracy: 0.9867 - val_loss: 0.3891 - val_accuracy: 0.9187\n",
      "Epoch 70/100\n",
      "110/110 [==============================] - 1s 5ms/step - loss: 0.0499 - accuracy: 0.9870 - val_loss: 0.4438 - val_accuracy: 0.9176\n",
      "Epoch 71/100\n",
      "110/110 [==============================] - 1s 5ms/step - loss: 0.0460 - accuracy: 0.9860 - val_loss: 0.4458 - val_accuracy: 0.9193\n",
      "Epoch 72/100\n",
      "110/110 [==============================] - 1s 5ms/step - loss: 0.0544 - accuracy: 0.9851 - val_loss: 0.4776 - val_accuracy: 0.9061\n",
      "Epoch 73/100\n",
      "110/110 [==============================] - 1s 5ms/step - loss: 0.0719 - accuracy: 0.9817 - val_loss: 0.3330 - val_accuracy: 0.9296\n",
      "Epoch 74/100\n",
      "110/110 [==============================] - 1s 5ms/step - loss: 0.0587 - accuracy: 0.9857 - val_loss: 0.3994 - val_accuracy: 0.9222\n",
      "Epoch 75/100\n",
      "110/110 [==============================] - 1s 5ms/step - loss: 0.0393 - accuracy: 0.9865 - val_loss: 0.3937 - val_accuracy: 0.9216\n",
      "Epoch 76/100\n",
      "110/110 [==============================] - 1s 5ms/step - loss: 0.0309 - accuracy: 0.9910 - val_loss: 0.3961 - val_accuracy: 0.9222\n",
      "Epoch 77/100\n",
      "110/110 [==============================] - 1s 5ms/step - loss: 0.0439 - accuracy: 0.9848 - val_loss: 0.3650 - val_accuracy: 0.9244\n",
      "Epoch 78/100\n",
      "110/110 [==============================] - 1s 5ms/step - loss: 0.0460 - accuracy: 0.9850 - val_loss: 0.4588 - val_accuracy: 0.9164\n",
      "Epoch 79/100\n",
      "110/110 [==============================] - 1s 5ms/step - loss: 0.0572 - accuracy: 0.9840 - val_loss: 0.4257 - val_accuracy: 0.9273\n",
      "Epoch 80/100\n",
      "110/110 [==============================] - 1s 5ms/step - loss: 0.0448 - accuracy: 0.9870 - val_loss: 0.3391 - val_accuracy: 0.9279\n",
      "Epoch 81/100\n",
      "110/110 [==============================] - 1s 5ms/step - loss: 0.0561 - accuracy: 0.9834 - val_loss: 0.4568 - val_accuracy: 0.9204\n",
      "Epoch 82/100\n",
      "110/110 [==============================] - 1s 5ms/step - loss: 0.0461 - accuracy: 0.9871 - val_loss: 0.5702 - val_accuracy: 0.9061\n",
      "Epoch 83/100\n",
      "110/110 [==============================] - 1s 5ms/step - loss: 0.0693 - accuracy: 0.9848 - val_loss: 0.4917 - val_accuracy: 0.9181\n",
      "Epoch 84/100\n",
      "110/110 [==============================] - 1s 5ms/step - loss: 0.0733 - accuracy: 0.9804 - val_loss: 0.4458 - val_accuracy: 0.9227\n",
      "Epoch 85/100\n",
      "110/110 [==============================] - 1s 5ms/step - loss: 0.0435 - accuracy: 0.9865 - val_loss: 0.5347 - val_accuracy: 0.9101\n",
      "Epoch 86/100\n",
      "110/110 [==============================] - 1s 5ms/step - loss: 0.0567 - accuracy: 0.9844 - val_loss: 0.3697 - val_accuracy: 0.9227\n",
      "Epoch 87/100\n",
      "110/110 [==============================] - 1s 5ms/step - loss: 0.0468 - accuracy: 0.9844 - val_loss: 0.3798 - val_accuracy: 0.9262\n",
      "Epoch 88/100\n",
      "110/110 [==============================] - 1s 5ms/step - loss: 0.0597 - accuracy: 0.9824 - val_loss: 0.5222 - val_accuracy: 0.8970\n",
      "Epoch 89/100\n",
      "110/110 [==============================] - 1s 5ms/step - loss: 0.0808 - accuracy: 0.9808 - val_loss: 0.3669 - val_accuracy: 0.9325\n",
      "Epoch 90/100\n",
      "110/110 [==============================] - 1s 5ms/step - loss: 0.0387 - accuracy: 0.9880 - val_loss: 0.4191 - val_accuracy: 0.9244\n",
      "Epoch 91/100\n",
      "110/110 [==============================] - 1s 5ms/step - loss: 0.0421 - accuracy: 0.9887 - val_loss: 0.4446 - val_accuracy: 0.9267\n",
      "Epoch 92/100\n",
      "110/110 [==============================] - 1s 5ms/step - loss: 0.0594 - accuracy: 0.9837 - val_loss: 0.3187 - val_accuracy: 0.9382\n",
      "Epoch 93/100\n",
      "110/110 [==============================] - 1s 5ms/step - loss: 0.0359 - accuracy: 0.9874 - val_loss: 0.3418 - val_accuracy: 0.9342\n",
      "Epoch 94/100\n",
      "110/110 [==============================] - 1s 5ms/step - loss: 0.0183 - accuracy: 0.9930 - val_loss: 0.3895 - val_accuracy: 0.9393\n",
      "Epoch 95/100\n",
      "110/110 [==============================] - 1s 6ms/step - loss: 0.0545 - accuracy: 0.9858 - val_loss: 0.3127 - val_accuracy: 0.9216\n",
      "Epoch 96/100\n",
      "110/110 [==============================] - 0s 4ms/step - loss: 0.0398 - accuracy: 0.9890 - val_loss: 0.3341 - val_accuracy: 0.9342\n",
      "Epoch 97/100\n",
      "110/110 [==============================] - 1s 5ms/step - loss: 0.0254 - accuracy: 0.9928 - val_loss: 0.4305 - val_accuracy: 0.9330\n",
      "Epoch 98/100\n",
      "110/110 [==============================] - 1s 5ms/step - loss: 0.0254 - accuracy: 0.9928 - val_loss: 0.4131 - val_accuracy: 0.9313\n",
      "Epoch 99/100\n",
      "110/110 [==============================] - 1s 5ms/step - loss: 0.0506 - accuracy: 0.9878 - val_loss: 0.3817 - val_accuracy: 0.9273\n",
      "Epoch 100/100\n",
      "110/110 [==============================] - 1s 5ms/step - loss: 0.0261 - accuracy: 0.9921 - val_loss: 0.4183 - val_accuracy: 0.9296\n"
     ]
    },
    {
     "data": {
      "text/plain": [
       "<keras.callbacks.History at 0x1faf5c624f0>"
      ]
     },
     "execution_count": 92,
     "metadata": {},
     "output_type": "execute_result"
    }
   ],
   "source": [
    "model.fit(X_train, y_train, batch_size=64, epochs=100, validation_data=(X_test, y_test))"
   ]
  },
  {
   "cell_type": "code",
   "execution_count": null,
   "id": "89de2fd4",
   "metadata": {},
   "outputs": [],
   "source": [
    "# best epoch\n",
    "# Epoch 94/100\n",
    "# 110/110 [==================] - 1s 5ms/step - loss: 0.0183 - accuracy: 0.9930 - val_loss: 0.3895 - val_accuracy: 0.9393"
   ]
  },
  {
   "cell_type": "code",
   "execution_count": 93,
   "id": "7fdea41f",
   "metadata": {},
   "outputs": [
    {
     "name": "stdout",
     "output_type": "stream",
     "text": [
      "INFO:tensorflow:Assets written to: ANN_hypertuned_model\\assets\n"
     ]
    }
   ],
   "source": [
    "model.save('ANN_hypertuned_model')"
   ]
  },
  {
   "cell_type": "code",
   "execution_count": 94,
   "id": "3955b5f2",
   "metadata": {},
   "outputs": [
    {
     "name": "stdout",
     "output_type": "stream",
     "text": [
      "55/55 [==============================] - 0s 4ms/step - loss: 0.4183 - accuracy: 0.9296\n"
     ]
    }
   ],
   "source": [
    "test_accuracy = model.evaluate(X_test, y_test, verbose=1)"
   ]
  },
  {
   "cell_type": "code",
   "execution_count": null,
   "id": "fcdf0a6b",
   "metadata": {},
   "outputs": [],
   "source": []
  },
  {
   "cell_type": "code",
   "execution_count": null,
   "id": "bd1809c8",
   "metadata": {},
   "outputs": [],
   "source": []
  },
  {
   "cell_type": "code",
   "execution_count": 119,
   "id": "bc620b0f",
   "metadata": {},
   "outputs": [],
   "source": [
    "\"\"\"model = Sequential()\n",
    "model.add(layers.Flatten())\n",
    "\n",
    "for i in range(0,7):\n",
    "    model.add(layers.Dense(units= 280 + (i*10), activation='relu'))\n",
    "    model.add(layers.Dropout(0.25))\n",
    "    \n",
    "\n",
    "model.add(layers.Dense(units=total_labels, activation='softmax'))\n",
    "\n",
    "\n",
    "model.compile(optimizer=Adam(learning_rate=6.023588532722681e-05), loss='categorical_crossentropy', metrics=['accuracy'])\"\"\""
   ]
  },
  {
   "cell_type": "code",
   "execution_count": 120,
   "id": "fddda1ff",
   "metadata": {},
   "outputs": [
    {
     "name": "stdout",
     "output_type": "stream",
     "text": [
      "Epoch 1/100\n",
      "219/219 [==============================] - 4s 10ms/step - loss: 4.2157 - accuracy: 0.1095 - val_loss: 2.2444 - val_accuracy: 0.1660\n",
      "Epoch 2/100\n",
      "219/219 [==============================] - 2s 7ms/step - loss: 2.7006 - accuracy: 0.1187 - val_loss: 2.2569 - val_accuracy: 0.1712\n",
      "Epoch 3/100\n",
      "219/219 [==============================] - 2s 8ms/step - loss: 2.4766 - accuracy: 0.1228 - val_loss: 2.2588 - val_accuracy: 0.2026\n",
      "Epoch 4/100\n",
      "219/219 [==============================] - 2s 9ms/step - loss: 2.3803 - accuracy: 0.1293 - val_loss: 2.2552 - val_accuracy: 0.2364\n",
      "Epoch 5/100\n",
      "219/219 [==============================] - 2s 9ms/step - loss: 2.3207 - accuracy: 0.1384 - val_loss: 2.2481 - val_accuracy: 0.2879\n",
      "Epoch 6/100\n",
      "219/219 [==============================] - 2s 9ms/step - loss: 2.2983 - accuracy: 0.1327 - val_loss: 2.2361 - val_accuracy: 0.2902\n",
      "Epoch 7/100\n",
      "219/219 [==============================] - 2s 10ms/step - loss: 2.2748 - accuracy: 0.1470 - val_loss: 2.2313 - val_accuracy: 0.3120\n",
      "Epoch 8/100\n",
      "219/219 [==============================] - 2s 9ms/step - loss: 2.2574 - accuracy: 0.1569 - val_loss: 2.2172 - val_accuracy: 0.3051\n",
      "Epoch 9/100\n",
      "219/219 [==============================] - 2s 10ms/step - loss: 2.2230 - accuracy: 0.1621 - val_loss: 2.1970 - val_accuracy: 0.2988\n",
      "Epoch 10/100\n",
      "219/219 [==============================] - 2s 10ms/step - loss: 2.2126 - accuracy: 0.1778 - val_loss: 2.1651 - val_accuracy: 0.3165\n",
      "Epoch 11/100\n",
      "219/219 [==============================] - 2s 9ms/step - loss: 2.1910 - accuracy: 0.1904 - val_loss: 2.1276 - val_accuracy: 0.3143\n",
      "Epoch 12/100\n",
      "219/219 [==============================] - 2s 10ms/step - loss: 2.1574 - accuracy: 0.2047 - val_loss: 2.0809 - val_accuracy: 0.3291\n",
      "Epoch 13/100\n",
      "219/219 [==============================] - 2s 9ms/step - loss: 2.1477 - accuracy: 0.2080 - val_loss: 2.0499 - val_accuracy: 0.3589\n",
      "Epoch 14/100\n",
      "219/219 [==============================] - 2s 10ms/step - loss: 2.1017 - accuracy: 0.2344 - val_loss: 2.0068 - val_accuracy: 0.3560\n",
      "Epoch 15/100\n",
      "219/219 [==============================] - 2s 9ms/step - loss: 2.0784 - accuracy: 0.2435 - val_loss: 1.9670 - val_accuracy: 0.3560\n",
      "Epoch 16/100\n",
      "219/219 [==============================] - 2s 9ms/step - loss: 2.0610 - accuracy: 0.2474 - val_loss: 1.9337 - val_accuracy: 0.3595\n",
      "Epoch 17/100\n",
      "219/219 [==============================] - 2s 10ms/step - loss: 2.0411 - accuracy: 0.2560 - val_loss: 1.9096 - val_accuracy: 0.3635\n",
      "Epoch 18/100\n",
      "219/219 [==============================] - 2s 10ms/step - loss: 2.0031 - accuracy: 0.2716 - val_loss: 1.8603 - val_accuracy: 0.3795\n",
      "Epoch 19/100\n",
      "219/219 [==============================] - 2s 10ms/step - loss: 1.9824 - accuracy: 0.2740 - val_loss: 1.8401 - val_accuracy: 0.3852\n",
      "Epoch 20/100\n",
      "219/219 [==============================] - 2s 9ms/step - loss: 1.9492 - accuracy: 0.2921 - val_loss: 1.8070 - val_accuracy: 0.3892\n",
      "Epoch 21/100\n",
      "219/219 [==============================] - 2s 9ms/step - loss: 1.9270 - accuracy: 0.2968 - val_loss: 1.7680 - val_accuracy: 0.3932\n",
      "Epoch 22/100\n",
      "219/219 [==============================] - 2s 10ms/step - loss: 1.9033 - accuracy: 0.2975 - val_loss: 1.7414 - val_accuracy: 0.4081\n",
      "Epoch 23/100\n",
      "219/219 [==============================] - 2s 9ms/step - loss: 1.8730 - accuracy: 0.3188 - val_loss: 1.7184 - val_accuracy: 0.4110\n",
      "Epoch 24/100\n",
      "219/219 [==============================] - 2s 10ms/step - loss: 1.8673 - accuracy: 0.3154 - val_loss: 1.6951 - val_accuracy: 0.4224\n",
      "Epoch 25/100\n",
      "219/219 [==============================] - 2s 10ms/step - loss: 1.8375 - accuracy: 0.3350 - val_loss: 1.6729 - val_accuracy: 0.4213\n",
      "Epoch 26/100\n",
      "219/219 [==============================] - 2s 9ms/step - loss: 1.8147 - accuracy: 0.3422 - val_loss: 1.6357 - val_accuracy: 0.4390\n",
      "Epoch 27/100\n",
      "219/219 [==============================] - 2s 10ms/step - loss: 1.8087 - accuracy: 0.3489 - val_loss: 1.6253 - val_accuracy: 0.4499\n",
      "Epoch 28/100\n",
      "219/219 [==============================] - 2s 10ms/step - loss: 1.7879 - accuracy: 0.3542 - val_loss: 1.6009 - val_accuracy: 0.4551\n",
      "Epoch 29/100\n",
      "219/219 [==============================] - 2s 8ms/step - loss: 1.7585 - accuracy: 0.3588 - val_loss: 1.5768 - val_accuracy: 0.4699\n",
      "Epoch 30/100\n",
      "219/219 [==============================] - 2s 8ms/step - loss: 1.7437 - accuracy: 0.3696 - val_loss: 1.5417 - val_accuracy: 0.4865\n",
      "Epoch 31/100\n",
      "219/219 [==============================] - 2s 8ms/step - loss: 1.7090 - accuracy: 0.3883 - val_loss: 1.5111 - val_accuracy: 0.5112\n",
      "Epoch 32/100\n",
      "219/219 [==============================] - 2s 7ms/step - loss: 1.6799 - accuracy: 0.3938 - val_loss: 1.4607 - val_accuracy: 0.5152\n",
      "Epoch 33/100\n",
      "219/219 [==============================] - 2s 8ms/step - loss: 1.6677 - accuracy: 0.4097 - val_loss: 1.4445 - val_accuracy: 0.5209\n",
      "Epoch 34/100\n",
      "219/219 [==============================] - 2s 7ms/step - loss: 1.6481 - accuracy: 0.4143 - val_loss: 1.4077 - val_accuracy: 0.5404\n",
      "Epoch 35/100\n",
      "219/219 [==============================] - 2s 7ms/step - loss: 1.6035 - accuracy: 0.4279 - val_loss: 1.3894 - val_accuracy: 0.5541\n",
      "Epoch 36/100\n",
      "219/219 [==============================] - 2s 9ms/step - loss: 1.6038 - accuracy: 0.4339 - val_loss: 1.3624 - val_accuracy: 0.5541\n",
      "Epoch 37/100\n",
      "219/219 [==============================] - 2s 9ms/step - loss: 1.5730 - accuracy: 0.4474 - val_loss: 1.3434 - val_accuracy: 0.5570\n",
      "Epoch 38/100\n",
      "219/219 [==============================] - 2s 10ms/step - loss: 1.5664 - accuracy: 0.4510 - val_loss: 1.3331 - val_accuracy: 0.5655\n",
      "Epoch 39/100\n",
      "219/219 [==============================] - 2s 10ms/step - loss: 1.5370 - accuracy: 0.4601 - val_loss: 1.2992 - val_accuracy: 0.5718\n",
      "Epoch 40/100\n",
      "219/219 [==============================] - 2s 10ms/step - loss: 1.5333 - accuracy: 0.4601 - val_loss: 1.2979 - val_accuracy: 0.5833\n",
      "Epoch 41/100\n",
      "219/219 [==============================] - 2s 9ms/step - loss: 1.5022 - accuracy: 0.4830 - val_loss: 1.2777 - val_accuracy: 0.5816\n",
      "Epoch 42/100\n",
      "219/219 [==============================] - 2s 9ms/step - loss: 1.5061 - accuracy: 0.4807 - val_loss: 1.2719 - val_accuracy: 0.5833\n",
      "Epoch 43/100\n",
      "219/219 [==============================] - 2s 10ms/step - loss: 1.4742 - accuracy: 0.4802 - val_loss: 1.2494 - val_accuracy: 0.5936\n",
      "Epoch 44/100\n",
      "219/219 [==============================] - 2s 10ms/step - loss: 1.4672 - accuracy: 0.4872 - val_loss: 1.2439 - val_accuracy: 0.5873\n",
      "Epoch 45/100\n",
      "219/219 [==============================] - 2s 9ms/step - loss: 1.4483 - accuracy: 0.5009 - val_loss: 1.2238 - val_accuracy: 0.5947\n",
      "Epoch 46/100\n",
      "219/219 [==============================] - 2s 10ms/step - loss: 1.4372 - accuracy: 0.5031 - val_loss: 1.2046 - val_accuracy: 0.6153\n",
      "Epoch 47/100\n",
      "219/219 [==============================] - 2s 10ms/step - loss: 1.4193 - accuracy: 0.5068 - val_loss: 1.2021 - val_accuracy: 0.6211\n",
      "Epoch 48/100\n",
      "219/219 [==============================] - 2s 9ms/step - loss: 1.4162 - accuracy: 0.5079 - val_loss: 1.1919 - val_accuracy: 0.6222\n",
      "Epoch 49/100\n",
      "219/219 [==============================] - 2s 9ms/step - loss: 1.3924 - accuracy: 0.5238 - val_loss: 1.1756 - val_accuracy: 0.6319\n",
      "Epoch 50/100\n",
      "219/219 [==============================] - 2s 9ms/step - loss: 1.3740 - accuracy: 0.5263 - val_loss: 1.1656 - val_accuracy: 0.6342\n",
      "Epoch 51/100\n",
      "219/219 [==============================] - 2s 9ms/step - loss: 1.3639 - accuracy: 0.5250 - val_loss: 1.1472 - val_accuracy: 0.6291\n",
      "Epoch 52/100\n",
      "219/219 [==============================] - 2s 9ms/step - loss: 1.3357 - accuracy: 0.5389 - val_loss: 1.1413 - val_accuracy: 0.6400\n",
      "Epoch 53/100\n",
      "219/219 [==============================] - 2s 10ms/step - loss: 1.3411 - accuracy: 0.5351 - val_loss: 1.1342 - val_accuracy: 0.6531\n",
      "Epoch 54/100\n",
      "219/219 [==============================] - 2s 9ms/step - loss: 1.3259 - accuracy: 0.5510 - val_loss: 1.1161 - val_accuracy: 0.6525\n",
      "Epoch 55/100\n",
      "219/219 [==============================] - 2s 9ms/step - loss: 1.3033 - accuracy: 0.5585 - val_loss: 1.0971 - val_accuracy: 0.6606\n",
      "Epoch 56/100\n",
      "219/219 [==============================] - 2s 10ms/step - loss: 1.3153 - accuracy: 0.5522 - val_loss: 1.0914 - val_accuracy: 0.6606\n",
      "Epoch 57/100\n",
      "219/219 [==============================] - 2s 9ms/step - loss: 1.2849 - accuracy: 0.5621 - val_loss: 1.0728 - val_accuracy: 0.6703\n"
     ]
    },
    {
     "name": "stdout",
     "output_type": "stream",
     "text": [
      "Epoch 58/100\n",
      "219/219 [==============================] - 2s 9ms/step - loss: 1.2576 - accuracy: 0.5721 - val_loss: 1.0574 - val_accuracy: 0.6806\n",
      "Epoch 59/100\n",
      "219/219 [==============================] - 2s 9ms/step - loss: 1.2454 - accuracy: 0.5727 - val_loss: 1.0422 - val_accuracy: 0.6760\n",
      "Epoch 60/100\n",
      "219/219 [==============================] - 2s 10ms/step - loss: 1.2494 - accuracy: 0.5745 - val_loss: 1.0267 - val_accuracy: 0.6817\n",
      "Epoch 61/100\n",
      "219/219 [==============================] - 2s 10ms/step - loss: 1.2233 - accuracy: 0.5864 - val_loss: 1.0191 - val_accuracy: 0.6777\n",
      "Epoch 62/100\n",
      "219/219 [==============================] - 2s 9ms/step - loss: 1.2149 - accuracy: 0.5883 - val_loss: 1.0124 - val_accuracy: 0.6829\n",
      "Epoch 63/100\n",
      "219/219 [==============================] - 2s 9ms/step - loss: 1.1982 - accuracy: 0.5947 - val_loss: 1.0015 - val_accuracy: 0.6898\n",
      "Epoch 64/100\n",
      "219/219 [==============================] - 2s 10ms/step - loss: 1.1884 - accuracy: 0.5951 - val_loss: 0.9851 - val_accuracy: 0.6857\n",
      "Epoch 65/100\n",
      "219/219 [==============================] - 2s 10ms/step - loss: 1.1791 - accuracy: 0.5957 - val_loss: 0.9739 - val_accuracy: 0.6898\n",
      "Epoch 66/100\n",
      "219/219 [==============================] - 2s 9ms/step - loss: 1.1660 - accuracy: 0.6053 - val_loss: 0.9678 - val_accuracy: 0.6961\n",
      "Epoch 67/100\n",
      "219/219 [==============================] - 2s 9ms/step - loss: 1.1579 - accuracy: 0.6125 - val_loss: 0.9494 - val_accuracy: 0.7069\n",
      "Epoch 68/100\n",
      "219/219 [==============================] - 2s 9ms/step - loss: 1.1417 - accuracy: 0.6099 - val_loss: 0.9391 - val_accuracy: 0.7075\n",
      "Epoch 69/100\n",
      "219/219 [==============================] - 2s 10ms/step - loss: 1.1234 - accuracy: 0.6186 - val_loss: 0.9228 - val_accuracy: 0.7115\n",
      "Epoch 70/100\n",
      "219/219 [==============================] - 2s 9ms/step - loss: 1.1041 - accuracy: 0.6262 - val_loss: 0.9128 - val_accuracy: 0.7167\n",
      "Epoch 71/100\n",
      "219/219 [==============================] - 2s 9ms/step - loss: 1.0999 - accuracy: 0.6268 - val_loss: 0.9064 - val_accuracy: 0.7184\n",
      "Epoch 72/100\n",
      "219/219 [==============================] - 2s 10ms/step - loss: 1.0887 - accuracy: 0.6348 - val_loss: 0.8917 - val_accuracy: 0.7189\n",
      "Epoch 73/100\n",
      "219/219 [==============================] - 2s 10ms/step - loss: 1.0805 - accuracy: 0.6341 - val_loss: 0.8805 - val_accuracy: 0.7293\n",
      "Epoch 74/100\n",
      "219/219 [==============================] - 2s 9ms/step - loss: 1.0731 - accuracy: 0.6407 - val_loss: 0.8745 - val_accuracy: 0.7184\n",
      "Epoch 75/100\n",
      "219/219 [==============================] - 2s 8ms/step - loss: 1.0505 - accuracy: 0.6461 - val_loss: 0.8637 - val_accuracy: 0.7258\n",
      "Epoch 76/100\n",
      "219/219 [==============================] - 2s 8ms/step - loss: 1.0405 - accuracy: 0.6528 - val_loss: 0.8525 - val_accuracy: 0.7304\n",
      "Epoch 77/100\n",
      "219/219 [==============================] - 2s 9ms/step - loss: 1.0196 - accuracy: 0.6570 - val_loss: 0.8360 - val_accuracy: 0.7338\n",
      "Epoch 78/100\n",
      "219/219 [==============================] - 2s 10ms/step - loss: 1.0228 - accuracy: 0.6594 - val_loss: 0.8350 - val_accuracy: 0.7384\n",
      "Epoch 79/100\n",
      "219/219 [==============================] - 2s 8ms/step - loss: 1.0200 - accuracy: 0.6540 - val_loss: 0.8203 - val_accuracy: 0.7464\n",
      "Epoch 80/100\n",
      "219/219 [==============================] - 2s 7ms/step - loss: 1.0166 - accuracy: 0.6568 - val_loss: 0.8180 - val_accuracy: 0.7430\n",
      "Epoch 81/100\n",
      "219/219 [==============================] - 2s 7ms/step - loss: 0.9865 - accuracy: 0.6630 - val_loss: 0.8006 - val_accuracy: 0.7453\n",
      "Epoch 82/100\n",
      "219/219 [==============================] - 2s 7ms/step - loss: 0.9821 - accuracy: 0.6687 - val_loss: 0.7944 - val_accuracy: 0.7447\n",
      "Epoch 83/100\n",
      "219/219 [==============================] - 2s 9ms/step - loss: 0.9613 - accuracy: 0.6757 - val_loss: 0.7818 - val_accuracy: 0.7521\n",
      "Epoch 84/100\n",
      "219/219 [==============================] - 2s 10ms/step - loss: 0.9642 - accuracy: 0.6697 - val_loss: 0.7759 - val_accuracy: 0.7556\n",
      "Epoch 85/100\n",
      "219/219 [==============================] - 2s 10ms/step - loss: 0.9414 - accuracy: 0.6830 - val_loss: 0.7535 - val_accuracy: 0.7613\n",
      "Epoch 86/100\n",
      "219/219 [==============================] - 2s 9ms/step - loss: 0.9270 - accuracy: 0.6889 - val_loss: 0.7520 - val_accuracy: 0.7693\n",
      "Epoch 87/100\n",
      "219/219 [==============================] - 2s 8ms/step - loss: 0.9239 - accuracy: 0.6896 - val_loss: 0.7381 - val_accuracy: 0.7682\n",
      "Epoch 88/100\n",
      "219/219 [==============================] - 2s 9ms/step - loss: 0.9182 - accuracy: 0.6903 - val_loss: 0.7297 - val_accuracy: 0.7687\n",
      "Epoch 89/100\n",
      "219/219 [==============================] - 2s 10ms/step - loss: 0.8995 - accuracy: 0.6959 - val_loss: 0.7172 - val_accuracy: 0.7785\n",
      "Epoch 90/100\n",
      "219/219 [==============================] - 2s 9ms/step - loss: 0.8996 - accuracy: 0.6998 - val_loss: 0.7172 - val_accuracy: 0.7733\n",
      "Epoch 91/100\n",
      "219/219 [==============================] - 2s 8ms/step - loss: 0.8948 - accuracy: 0.7034 - val_loss: 0.7042 - val_accuracy: 0.7825\n",
      "Epoch 92/100\n",
      "219/219 [==============================] - 2s 8ms/step - loss: 0.8668 - accuracy: 0.7117 - val_loss: 0.7013 - val_accuracy: 0.7762\n",
      "Epoch 93/100\n",
      "219/219 [==============================] - 2s 9ms/step - loss: 0.8706 - accuracy: 0.7055 - val_loss: 0.6898 - val_accuracy: 0.7802\n",
      "Epoch 94/100\n",
      "219/219 [==============================] - 2s 9ms/step - loss: 0.8601 - accuracy: 0.7183 - val_loss: 0.6868 - val_accuracy: 0.7739\n",
      "Epoch 95/100\n",
      "219/219 [==============================] - 2s 8ms/step - loss: 0.8520 - accuracy: 0.7131 - val_loss: 0.6762 - val_accuracy: 0.7836\n",
      "Epoch 96/100\n",
      "219/219 [==============================] - 2s 10ms/step - loss: 0.8462 - accuracy: 0.7174 - val_loss: 0.6632 - val_accuracy: 0.7934\n",
      "Epoch 97/100\n",
      "219/219 [==============================] - 2s 10ms/step - loss: 0.8343 - accuracy: 0.7194 - val_loss: 0.6548 - val_accuracy: 0.7894\n",
      "Epoch 98/100\n",
      "219/219 [==============================] - 2s 10ms/step - loss: 0.8134 - accuracy: 0.7207 - val_loss: 0.6396 - val_accuracy: 0.7979\n",
      "Epoch 99/100\n",
      "219/219 [==============================] - 2s 9ms/step - loss: 0.8029 - accuracy: 0.7309 - val_loss: 0.6387 - val_accuracy: 0.7968\n",
      "Epoch 100/100\n",
      "219/219 [==============================] - 2s 9ms/step - loss: 0.8061 - accuracy: 0.7267 - val_loss: 0.6267 - val_accuracy: 0.7991\n"
     ]
    },
    {
     "data": {
      "text/plain": [
       "<keras.callbacks.History at 0x1e782d22b50>"
      ]
     },
     "execution_count": 120,
     "metadata": {},
     "output_type": "execute_result"
    }
   ],
   "source": [
    "'''model.fit(X_train, y_train, batch_size=32, epochs=100, validation_data=(X_test,y_test))'''"
   ]
  },
  {
   "cell_type": "code",
   "execution_count": 127,
   "id": "aa637d6f",
   "metadata": {},
   "outputs": [
    {
     "name": "stdout",
     "output_type": "stream",
     "text": [
      "1/1 [==============================] - 0s 16ms/step\n",
      "[2]\n"
     ]
    },
    {
     "data": {
      "text/plain": [
       "array(['children_playing'], dtype='<U16')"
      ]
     },
     "execution_count": 127,
     "metadata": {},
     "output_type": "execute_result"
    }
   ],
   "source": [
    "filenames = 'UrbanSound8K/mixkit-laser-weapon-shot-1681.wav'\n",
    "audio_data = feature_extractor(filenames)\n",
    "audio_data = audio_data.reshape(1,-1)\n",
    "predicted_label = np.argmax(model.predict(audio_data), axis=-1)\n",
    "print(predicted_label)\n",
    "predicted_class = labelencoder.inverse_transform(predicted_label)\n",
    "predicted_class"
   ]
  },
  {
   "cell_type": "code",
   "execution_count": null,
   "id": "bedd0c92",
   "metadata": {},
   "outputs": [],
   "source": []
  },
  {
   "cell_type": "code",
   "execution_count": null,
   "id": "69704f93",
   "metadata": {},
   "outputs": [],
   "source": []
  },
  {
   "cell_type": "code",
   "execution_count": null,
   "id": "bf5be08d",
   "metadata": {},
   "outputs": [],
   "source": [
    "'''Trial 03 summary\n",
    "Hyperparameters:\n",
    "num_layers: 7\n",
    "units: 352\n",
    "dropout: False\n",
    "ls: 6.023588532722681e-05\n",
    "Score: 0.9126700162887573'''"
   ]
  },
  {
   "cell_type": "code",
   "execution_count": 85,
   "id": "bc5cb8df",
   "metadata": {},
   "outputs": [],
   "source": [
    "'''model = Sequential([\n",
    "    \n",
    "    Dense(units=100, activation= 'relu', input_shape = (40,)),\n",
    "    Dropout(0.5),\n",
    "    Dense(units=200, activation= 'relu'),\n",
    "    Dropout(0.5),\n",
    "    Dense(units=100, activation= 'relu'),\n",
    "    Dropout(0.5),\n",
    "    Dense(units=total_labels, activation= 'softmax')\n",
    "])'''"
   ]
  },
  {
   "cell_type": "code",
   "execution_count": 86,
   "id": "7616df94",
   "metadata": {},
   "outputs": [
    {
     "name": "stdout",
     "output_type": "stream",
     "text": [
      "Model: \"sequential_1\"\n",
      "_________________________________________________________________\n",
      " Layer (type)                Output Shape              Param #   \n",
      "=================================================================\n",
      " dense_4 (Dense)             (None, 100)               4100      \n",
      "                                                                 \n",
      " dropout_3 (Dropout)         (None, 100)               0         \n",
      "                                                                 \n",
      " dense_5 (Dense)             (None, 200)               20200     \n",
      "                                                                 \n",
      " dropout_4 (Dropout)         (None, 200)               0         \n",
      "                                                                 \n",
      " dense_6 (Dense)             (None, 100)               20100     \n",
      "                                                                 \n",
      " dropout_5 (Dropout)         (None, 100)               0         \n",
      "                                                                 \n",
      " dense_7 (Dense)             (None, 10)                1010      \n",
      "                                                                 \n",
      "=================================================================\n",
      "Total params: 45,410\n",
      "Trainable params: 45,410\n",
      "Non-trainable params: 0\n",
      "_________________________________________________________________\n"
     ]
    }
   ],
   "source": [
    "'''model.summary()'''"
   ]
  },
  {
   "cell_type": "code",
   "execution_count": 87,
   "id": "71b81605",
   "metadata": {},
   "outputs": [],
   "source": [
    "'''model.compile(loss='categorical_crossentropy', metrics=['accuracy'], optimizer='adam')'''"
   ]
  },
  {
   "cell_type": "code",
   "execution_count": 12,
   "id": "bd58d5e4",
   "metadata": {},
   "outputs": [],
   "source": [
    "'''from tensorflow.keras.callbacks import ModelCheckpoint\n",
    "from datetime import datetime'''"
   ]
  },
  {
   "cell_type": "code",
   "execution_count": 118,
   "id": "10ef6250",
   "metadata": {},
   "outputs": [
    {
     "name": "stdout",
     "output_type": "stream",
     "text": [
      "Epoch 1/100\n",
      "207/219 [===========================>..] - ETA: 0s - loss: 0.9057 - accuracy: 0.6999\n",
      "Epoch 1: val_loss improved from inf to 0.64888, saving model to saved_models\\audio_classification.hdf5\n",
      "219/219 [==============================] - 1s 4ms/step - loss: 0.9017 - accuracy: 0.7018 - val_loss: 0.6489 - val_accuracy: 0.7922\n",
      "Epoch 2/100\n",
      "205/219 [===========================>..] - ETA: 0s - loss: 0.9003 - accuracy: 0.7055\n",
      "Epoch 2: val_loss did not improve from 0.64888\n",
      "219/219 [==============================] - 1s 3ms/step - loss: 0.8997 - accuracy: 0.7055 - val_loss: 0.6508 - val_accuracy: 0.8002\n",
      "Epoch 3/100\n",
      "201/219 [==========================>...] - ETA: 0s - loss: 0.8879 - accuracy: 0.7054\n",
      "Epoch 3: val_loss did not improve from 0.64888\n",
      "219/219 [==============================] - 1s 3ms/step - loss: 0.8956 - accuracy: 0.7038 - val_loss: 0.6546 - val_accuracy: 0.7951\n",
      "Epoch 4/100\n",
      "214/219 [============================>.] - ETA: 0s - loss: 0.8821 - accuracy: 0.7021\n",
      "Epoch 4: val_loss improved from 0.64888 to 0.63561, saving model to saved_models\\audio_classification.hdf5\n",
      "219/219 [==============================] - 1s 3ms/step - loss: 0.8850 - accuracy: 0.7015 - val_loss: 0.6356 - val_accuracy: 0.8037\n",
      "Epoch 5/100\n",
      "207/219 [===========================>..] - ETA: 0s - loss: 0.8771 - accuracy: 0.7068\n",
      "Epoch 5: val_loss did not improve from 0.63561\n",
      "219/219 [==============================] - 1s 3ms/step - loss: 0.8799 - accuracy: 0.7079 - val_loss: 0.6412 - val_accuracy: 0.8111\n",
      "Epoch 6/100\n",
      "204/219 [==========================>...] - ETA: 0s - loss: 0.8765 - accuracy: 0.7033\n",
      "Epoch 6: val_loss improved from 0.63561 to 0.63143, saving model to saved_models\\audio_classification.hdf5\n",
      "219/219 [==============================] - 1s 3ms/step - loss: 0.8758 - accuracy: 0.7038 - val_loss: 0.6314 - val_accuracy: 0.8048\n",
      "Epoch 7/100\n",
      "219/219 [==============================] - ETA: 0s - loss: 0.8959 - accuracy: 0.7018\n",
      "Epoch 7: val_loss did not improve from 0.63143\n",
      "219/219 [==============================] - 1s 3ms/step - loss: 0.8959 - accuracy: 0.7018 - val_loss: 0.6554 - val_accuracy: 0.7945\n",
      "Epoch 8/100\n",
      "196/219 [=========================>....] - ETA: 0s - loss: 0.9018 - accuracy: 0.7026\n",
      "Epoch 8: val_loss did not improve from 0.63143\n",
      "219/219 [==============================] - 1s 3ms/step - loss: 0.8955 - accuracy: 0.7029 - val_loss: 0.6421 - val_accuracy: 0.8105\n",
      "Epoch 9/100\n",
      "205/219 [===========================>..] - ETA: 0s - loss: 0.8892 - accuracy: 0.7026\n",
      "Epoch 9: val_loss did not improve from 0.63143\n",
      "219/219 [==============================] - 1s 3ms/step - loss: 0.8868 - accuracy: 0.7038 - val_loss: 0.6400 - val_accuracy: 0.8077\n",
      "Epoch 10/100\n",
      "204/219 [==========================>...] - ETA: 0s - loss: 0.8698 - accuracy: 0.7178\n",
      "Epoch 10: val_loss did not improve from 0.63143\n",
      "219/219 [==============================] - 1s 3ms/step - loss: 0.8705 - accuracy: 0.7181 - val_loss: 0.6418 - val_accuracy: 0.8060\n",
      "Epoch 11/100\n",
      "203/219 [==========================>...] - ETA: 0s - loss: 0.8883 - accuracy: 0.7057\n",
      "Epoch 11: val_loss did not improve from 0.63143\n",
      "219/219 [==============================] - 1s 3ms/step - loss: 0.8887 - accuracy: 0.7079 - val_loss: 0.6447 - val_accuracy: 0.8025\n",
      "Epoch 12/100\n",
      "198/219 [==========================>...] - ETA: 0s - loss: 0.8664 - accuracy: 0.7159\n",
      "Epoch 12: val_loss did not improve from 0.63143\n",
      "219/219 [==============================] - 1s 3ms/step - loss: 0.8699 - accuracy: 0.7131 - val_loss: 0.6386 - val_accuracy: 0.8019\n",
      "Epoch 13/100\n",
      "203/219 [==========================>...] - ETA: 0s - loss: 0.8721 - accuracy: 0.7118\n",
      "Epoch 13: val_loss did not improve from 0.63143\n",
      "219/219 [==============================] - 1s 3ms/step - loss: 0.8785 - accuracy: 0.7099 - val_loss: 0.6449 - val_accuracy: 0.8042\n",
      "Epoch 14/100\n",
      "200/219 [==========================>...] - ETA: 0s - loss: 0.8750 - accuracy: 0.7152\n",
      "Epoch 14: val_loss improved from 0.63143 to 0.62905, saving model to saved_models\\audio_classification.hdf5\n",
      "219/219 [==============================] - 1s 3ms/step - loss: 0.8809 - accuracy: 0.7142 - val_loss: 0.6291 - val_accuracy: 0.8077\n",
      "Epoch 15/100\n",
      "210/219 [===========================>..] - ETA: 0s - loss: 0.8866 - accuracy: 0.7074\n",
      "Epoch 15: val_loss did not improve from 0.62905\n",
      "219/219 [==============================] - 1s 3ms/step - loss: 0.8908 - accuracy: 0.7052 - val_loss: 0.6315 - val_accuracy: 0.8140\n",
      "Epoch 16/100\n",
      "213/219 [============================>.] - ETA: 0s - loss: 0.8688 - accuracy: 0.7163\n",
      "Epoch 16: val_loss did not improve from 0.62905\n",
      "219/219 [==============================] - 1s 3ms/step - loss: 0.8700 - accuracy: 0.7147 - val_loss: 0.6432 - val_accuracy: 0.8100\n",
      "Epoch 17/100\n",
      "204/219 [==========================>...] - ETA: 0s - loss: 0.8753 - accuracy: 0.7178\n",
      "Epoch 17: val_loss did not improve from 0.62905\n",
      "219/219 [==============================] - 1s 3ms/step - loss: 0.8731 - accuracy: 0.7191 - val_loss: 0.6353 - val_accuracy: 0.8077\n",
      "Epoch 18/100\n",
      "205/219 [===========================>..] - ETA: 0s - loss: 0.8828 - accuracy: 0.7081\n",
      "Epoch 18: val_loss did not improve from 0.62905\n",
      "219/219 [==============================] - 1s 3ms/step - loss: 0.8817 - accuracy: 0.7077 - val_loss: 0.6396 - val_accuracy: 0.8082\n",
      "Epoch 19/100\n",
      "198/219 [==========================>...] - ETA: 0s - loss: 0.8727 - accuracy: 0.7090\n",
      "Epoch 19: val_loss did not improve from 0.62905\n",
      "219/219 [==============================] - 1s 3ms/step - loss: 0.8735 - accuracy: 0.7104 - val_loss: 0.6624 - val_accuracy: 0.8048\n",
      "Epoch 20/100\n",
      "200/219 [==========================>...] - ETA: 0s - loss: 0.8612 - accuracy: 0.7147\n",
      "Epoch 20: val_loss did not improve from 0.62905\n",
      "219/219 [==============================] - 1s 3ms/step - loss: 0.8685 - accuracy: 0.7138 - val_loss: 0.6344 - val_accuracy: 0.8134\n",
      "Epoch 21/100\n",
      "202/219 [==========================>...] - ETA: 0s - loss: 0.8699 - accuracy: 0.7130\n",
      "Epoch 21: val_loss did not improve from 0.62905\n",
      "219/219 [==============================] - 1s 3ms/step - loss: 0.8665 - accuracy: 0.7135 - val_loss: 0.6332 - val_accuracy: 0.8025\n",
      "Epoch 22/100\n",
      "203/219 [==========================>...] - ETA: 0s - loss: 0.8561 - accuracy: 0.7174\n",
      "Epoch 22: val_loss did not improve from 0.62905\n",
      "219/219 [==============================] - 1s 3ms/step - loss: 0.8583 - accuracy: 0.7161 - val_loss: 0.6399 - val_accuracy: 0.7968\n",
      "Epoch 23/100\n",
      "203/219 [==========================>...] - ETA: 0s - loss: 0.8790 - accuracy: 0.7114\n",
      "Epoch 23: val_loss did not improve from 0.62905\n",
      "219/219 [==============================] - 1s 3ms/step - loss: 0.8714 - accuracy: 0.7115 - val_loss: 0.6543 - val_accuracy: 0.7997\n",
      "Epoch 24/100\n",
      "193/219 [=========================>....] - ETA: 0s - loss: 0.8703 - accuracy: 0.7149\n",
      "Epoch 24: val_loss did not improve from 0.62905\n",
      "219/219 [==============================] - 1s 3ms/step - loss: 0.8700 - accuracy: 0.7138 - val_loss: 0.6325 - val_accuracy: 0.8060\n",
      "Epoch 25/100\n",
      "199/219 [==========================>...] - ETA: 0s - loss: 0.8873 - accuracy: 0.7084\n",
      "Epoch 25: val_loss did not improve from 0.62905\n",
      "219/219 [==============================] - 1s 3ms/step - loss: 0.8864 - accuracy: 0.7088 - val_loss: 0.6428 - val_accuracy: 0.8031\n",
      "Epoch 26/100\n",
      "216/219 [============================>.] - ETA: 0s - loss: 0.8643 - accuracy: 0.7198\n",
      "Epoch 26: val_loss did not improve from 0.62905\n",
      "219/219 [==============================] - 1s 3ms/step - loss: 0.8632 - accuracy: 0.7200 - val_loss: 0.6306 - val_accuracy: 0.8094\n",
      "Epoch 27/100\n",
      "216/219 [============================>.] - ETA: 0s - loss: 0.8766 - accuracy: 0.7041\n",
      "Epoch 27: val_loss did not improve from 0.62905\n",
      "219/219 [==============================] - 1s 3ms/step - loss: 0.8776 - accuracy: 0.7044 - val_loss: 0.6444 - val_accuracy: 0.8065\n",
      "Epoch 28/100\n",
      "207/219 [===========================>..] - ETA: 0s - loss: 0.8784 - accuracy: 0.7126\n",
      "Epoch 28: val_loss did not improve from 0.62905\n",
      "219/219 [==============================] - 1s 3ms/step - loss: 0.8776 - accuracy: 0.7118 - val_loss: 0.6339 - val_accuracy: 0.8094\n",
      "Epoch 29/100\n",
      "202/219 [==========================>...] - ETA: 0s - loss: 0.8635 - accuracy: 0.7116\n",
      "Epoch 29: val_loss did not improve from 0.62905\n",
      "219/219 [==============================] - 1s 3ms/step - loss: 0.8632 - accuracy: 0.7107 - val_loss: 0.6352 - val_accuracy: 0.8042\n"
     ]
    },
    {
     "name": "stdout",
     "output_type": "stream",
     "text": [
      "Epoch 30/100\n",
      "212/219 [============================>.] - ETA: 0s - loss: 0.8515 - accuracy: 0.7167\n",
      "Epoch 30: val_loss did not improve from 0.62905\n",
      "219/219 [==============================] - 1s 3ms/step - loss: 0.8532 - accuracy: 0.7168 - val_loss: 0.6404 - val_accuracy: 0.7934\n",
      "Epoch 31/100\n",
      "213/219 [============================>.] - ETA: 0s - loss: 0.8700 - accuracy: 0.7089\n",
      "Epoch 31: val_loss improved from 0.62905 to 0.62504, saving model to saved_models\\audio_classification.hdf5\n",
      "219/219 [==============================] - 1s 3ms/step - loss: 0.8741 - accuracy: 0.7078 - val_loss: 0.6250 - val_accuracy: 0.7985\n",
      "Epoch 32/100\n",
      "205/219 [===========================>..] - ETA: 0s - loss: 0.8530 - accuracy: 0.7159\n",
      "Epoch 32: val_loss did not improve from 0.62504\n",
      "219/219 [==============================] - 1s 3ms/step - loss: 0.8529 - accuracy: 0.7157 - val_loss: 0.6313 - val_accuracy: 0.8077\n",
      "Epoch 33/100\n",
      "210/219 [===========================>..] - ETA: 0s - loss: 0.8706 - accuracy: 0.7168\n",
      "Epoch 33: val_loss did not improve from 0.62504\n",
      "219/219 [==============================] - 1s 3ms/step - loss: 0.8684 - accuracy: 0.7175 - val_loss: 0.6321 - val_accuracy: 0.8071\n",
      "Epoch 34/100\n",
      "212/219 [============================>.] - ETA: 0s - loss: 0.8782 - accuracy: 0.7118\n",
      "Epoch 34: val_loss did not improve from 0.62504\n",
      "219/219 [==============================] - 1s 3ms/step - loss: 0.8779 - accuracy: 0.7125 - val_loss: 0.6476 - val_accuracy: 0.8082\n",
      "Epoch 35/100\n",
      "209/219 [===========================>..] - ETA: 0s - loss: 0.8772 - accuracy: 0.7083\n",
      "Epoch 35: val_loss did not improve from 0.62504\n",
      "219/219 [==============================] - 1s 3ms/step - loss: 0.8776 - accuracy: 0.7082 - val_loss: 0.6469 - val_accuracy: 0.7934\n",
      "Epoch 36/100\n",
      "202/219 [==========================>...] - ETA: 0s - loss: 0.8713 - accuracy: 0.7076\n",
      "Epoch 36: val_loss did not improve from 0.62504\n",
      "219/219 [==============================] - 1s 3ms/step - loss: 0.8811 - accuracy: 0.7047 - val_loss: 0.6424 - val_accuracy: 0.8060\n",
      "Epoch 37/100\n",
      "201/219 [==========================>...] - ETA: 0s - loss: 0.8773 - accuracy: 0.7161\n",
      "Epoch 37: val_loss did not improve from 0.62504\n",
      "219/219 [==============================] - 1s 3ms/step - loss: 0.8709 - accuracy: 0.7184 - val_loss: 0.6562 - val_accuracy: 0.8100\n",
      "Epoch 38/100\n",
      "205/219 [===========================>..] - ETA: 0s - loss: 0.8670 - accuracy: 0.7125\n",
      "Epoch 38: val_loss did not improve from 0.62504\n",
      "219/219 [==============================] - 1s 3ms/step - loss: 0.8637 - accuracy: 0.7137 - val_loss: 0.6385 - val_accuracy: 0.8100\n",
      "Epoch 39/100\n",
      "209/219 [===========================>..] - ETA: 0s - loss: 0.8757 - accuracy: 0.7107\n",
      "Epoch 39: val_loss did not improve from 0.62504\n",
      "219/219 [==============================] - 1s 3ms/step - loss: 0.8750 - accuracy: 0.7118 - val_loss: 0.6525 - val_accuracy: 0.7962\n",
      "Epoch 40/100\n",
      "209/219 [===========================>..] - ETA: 0s - loss: 0.8869 - accuracy: 0.7075\n",
      "Epoch 40: val_loss did not improve from 0.62504\n",
      "219/219 [==============================] - 1s 3ms/step - loss: 0.8842 - accuracy: 0.7091 - val_loss: 0.6472 - val_accuracy: 0.7956\n",
      "Epoch 41/100\n",
      "212/219 [============================>.] - ETA: 0s - loss: 0.8458 - accuracy: 0.7192\n",
      "Epoch 41: val_loss did not improve from 0.62504\n",
      "219/219 [==============================] - 1s 3ms/step - loss: 0.8491 - accuracy: 0.7181 - val_loss: 0.6385 - val_accuracy: 0.8054\n",
      "Epoch 42/100\n",
      "209/219 [===========================>..] - ETA: 0s - loss: 0.8662 - accuracy: 0.7081\n",
      "Epoch 42: val_loss did not improve from 0.62504\n",
      "219/219 [==============================] - 1s 3ms/step - loss: 0.8605 - accuracy: 0.7102 - val_loss: 0.6277 - val_accuracy: 0.8025\n",
      "Epoch 43/100\n",
      "214/219 [============================>.] - ETA: 0s - loss: 0.8473 - accuracy: 0.7125\n",
      "Epoch 43: val_loss did not improve from 0.62504\n",
      "219/219 [==============================] - 1s 3ms/step - loss: 0.8498 - accuracy: 0.7114 - val_loss: 0.6319 - val_accuracy: 0.8031\n",
      "Epoch 44/100\n",
      "212/219 [============================>.] - ETA: 0s - loss: 0.8493 - accuracy: 0.7133\n",
      "Epoch 44: val_loss did not improve from 0.62504\n",
      "219/219 [==============================] - 1s 2ms/step - loss: 0.8485 - accuracy: 0.7134 - val_loss: 0.6411 - val_accuracy: 0.8014\n",
      "Epoch 45/100\n",
      "206/219 [===========================>..] - ETA: 0s - loss: 0.8855 - accuracy: 0.7051\n",
      "Epoch 45: val_loss did not improve from 0.62504\n",
      "219/219 [==============================] - 1s 3ms/step - loss: 0.8852 - accuracy: 0.7061 - val_loss: 0.6484 - val_accuracy: 0.8037\n",
      "Epoch 46/100\n",
      "202/219 [==========================>...] - ETA: 0s - loss: 0.8598 - accuracy: 0.7170\n",
      "Epoch 46: val_loss did not improve from 0.62504\n",
      "219/219 [==============================] - 1s 3ms/step - loss: 0.8639 - accuracy: 0.7148 - val_loss: 0.6336 - val_accuracy: 0.8060\n",
      "Epoch 47/100\n",
      "203/219 [==========================>...] - ETA: 0s - loss: 0.8712 - accuracy: 0.7109\n",
      "Epoch 47: val_loss did not improve from 0.62504\n",
      "219/219 [==============================] - 1s 3ms/step - loss: 0.8658 - accuracy: 0.7140 - val_loss: 0.6420 - val_accuracy: 0.7956\n",
      "Epoch 48/100\n",
      "207/219 [===========================>..] - ETA: 0s - loss: 0.8607 - accuracy: 0.7092\n",
      "Epoch 48: val_loss did not improve from 0.62504\n",
      "219/219 [==============================] - 1s 3ms/step - loss: 0.8574 - accuracy: 0.7102 - val_loss: 0.6349 - val_accuracy: 0.8019\n",
      "Epoch 49/100\n",
      "210/219 [===========================>..] - ETA: 0s - loss: 0.8687 - accuracy: 0.7098\n",
      "Epoch 49: val_loss did not improve from 0.62504\n",
      "219/219 [==============================] - 1s 3ms/step - loss: 0.8714 - accuracy: 0.7085 - val_loss: 0.6447 - val_accuracy: 0.7979\n",
      "Epoch 50/100\n",
      "210/219 [===========================>..] - ETA: 0s - loss: 0.8713 - accuracy: 0.7082\n",
      "Epoch 50: val_loss did not improve from 0.62504\n",
      "219/219 [==============================] - 1s 3ms/step - loss: 0.8688 - accuracy: 0.7094 - val_loss: 0.6410 - val_accuracy: 0.8060\n",
      "Epoch 51/100\n",
      "213/219 [============================>.] - ETA: 0s - loss: 0.8616 - accuracy: 0.7121\n",
      "Epoch 51: val_loss did not improve from 0.62504\n",
      "219/219 [==============================] - 1s 3ms/step - loss: 0.8633 - accuracy: 0.7117 - val_loss: 0.6299 - val_accuracy: 0.8168\n",
      "Epoch 52/100\n",
      "209/219 [===========================>..] - ETA: 0s - loss: 0.8629 - accuracy: 0.7153\n",
      "Epoch 52: val_loss did not improve from 0.62504\n",
      "219/219 [==============================] - 1s 3ms/step - loss: 0.8626 - accuracy: 0.7165 - val_loss: 0.6343 - val_accuracy: 0.8077\n",
      "Epoch 53/100\n",
      "213/219 [============================>.] - ETA: 0s - loss: 0.8686 - accuracy: 0.7111\n",
      "Epoch 53: val_loss did not improve from 0.62504\n",
      "219/219 [==============================] - 1s 3ms/step - loss: 0.8670 - accuracy: 0.7125 - val_loss: 0.6370 - val_accuracy: 0.8071\n",
      "Epoch 54/100\n",
      "212/219 [============================>.] - ETA: 0s - loss: 0.8339 - accuracy: 0.7270\n",
      "Epoch 54: val_loss did not improve from 0.62504\n",
      "219/219 [==============================] - 1s 3ms/step - loss: 0.8380 - accuracy: 0.7267 - val_loss: 0.6426 - val_accuracy: 0.8111\n",
      "Epoch 55/100\n",
      "213/219 [============================>.] - ETA: 0s - loss: 0.8658 - accuracy: 0.7155\n",
      "Epoch 55: val_loss did not improve from 0.62504\n",
      "219/219 [==============================] - 1s 3ms/step - loss: 0.8729 - accuracy: 0.7141 - val_loss: 0.6599 - val_accuracy: 0.7951\n",
      "Epoch 56/100\n",
      "219/219 [==============================] - ETA: 0s - loss: 0.8452 - accuracy: 0.7207\n",
      "Epoch 56: val_loss did not improve from 0.62504\n",
      "219/219 [==============================] - 1s 3ms/step - loss: 0.8452 - accuracy: 0.7207 - val_loss: 0.6439 - val_accuracy: 0.8071\n",
      "Epoch 57/100\n",
      "204/219 [==========================>...] - ETA: 0s - loss: 0.8575 - accuracy: 0.7163\n",
      "Epoch 57: val_loss did not improve from 0.62504\n",
      "219/219 [==============================] - 1s 3ms/step - loss: 0.8584 - accuracy: 0.7158 - val_loss: 0.6546 - val_accuracy: 0.8025\n",
      "Epoch 58/100\n",
      "204/219 [==========================>...] - ETA: 0s - loss: 0.8728 - accuracy: 0.7137\n",
      "Epoch 58: val_loss did not improve from 0.62504\n",
      "219/219 [==============================] - 1s 3ms/step - loss: 0.8699 - accuracy: 0.7134 - val_loss: 0.6399 - val_accuracy: 0.8042\n",
      "Epoch 59/100\n",
      "202/219 [==========================>...] - ETA: 0s - loss: 0.8463 - accuracy: 0.7167\n",
      "Epoch 59: val_loss did not improve from 0.62504\n"
     ]
    },
    {
     "name": "stdout",
     "output_type": "stream",
     "text": [
      "219/219 [==============================] - 1s 3ms/step - loss: 0.8436 - accuracy: 0.7180 - val_loss: 0.6395 - val_accuracy: 0.8042\n",
      "Epoch 60/100\n",
      "218/219 [============================>.] - ETA: 0s - loss: 0.8658 - accuracy: 0.7094\n",
      "Epoch 60: val_loss did not improve from 0.62504\n",
      "219/219 [==============================] - 1s 3ms/step - loss: 0.8660 - accuracy: 0.7094 - val_loss: 0.6349 - val_accuracy: 0.8071\n",
      "Epoch 61/100\n",
      "202/219 [==========================>...] - ETA: 0s - loss: 0.8588 - accuracy: 0.7220\n",
      "Epoch 61: val_loss improved from 0.62504 to 0.62020, saving model to saved_models\\audio_classification.hdf5\n",
      "219/219 [==============================] - 1s 3ms/step - loss: 0.8540 - accuracy: 0.7231 - val_loss: 0.6202 - val_accuracy: 0.8140\n",
      "Epoch 62/100\n",
      "209/219 [===========================>..] - ETA: 0s - loss: 0.8617 - accuracy: 0.7167\n",
      "Epoch 62: val_loss did not improve from 0.62020\n",
      "219/219 [==============================] - 1s 3ms/step - loss: 0.8639 - accuracy: 0.7160 - val_loss: 0.7174 - val_accuracy: 0.7745\n",
      "Epoch 63/100\n",
      "214/219 [============================>.] - ETA: 0s - loss: 0.8742 - accuracy: 0.7160\n",
      "Epoch 63: val_loss did not improve from 0.62020\n",
      "219/219 [==============================] - 1s 3ms/step - loss: 0.8747 - accuracy: 0.7154 - val_loss: 0.6380 - val_accuracy: 0.8008\n",
      "Epoch 64/100\n",
      "210/219 [===========================>..] - ETA: 0s - loss: 0.8238 - accuracy: 0.7254\n",
      "Epoch 64: val_loss did not improve from 0.62020\n",
      "219/219 [==============================] - 1s 3ms/step - loss: 0.8254 - accuracy: 0.7243 - val_loss: 0.6335 - val_accuracy: 0.8037\n",
      "Epoch 65/100\n",
      "212/219 [============================>.] - ETA: 0s - loss: 0.8418 - accuracy: 0.7244\n",
      "Epoch 65: val_loss did not improve from 0.62020\n",
      "219/219 [==============================] - 1s 3ms/step - loss: 0.8463 - accuracy: 0.7237 - val_loss: 0.6248 - val_accuracy: 0.8048\n",
      "Epoch 66/100\n",
      "208/219 [===========================>..] - ETA: 0s - loss: 0.8801 - accuracy: 0.7165\n",
      "Epoch 66: val_loss improved from 0.62020 to 0.61420, saving model to saved_models\\audio_classification.hdf5\n",
      "219/219 [==============================] - 1s 3ms/step - loss: 0.8765 - accuracy: 0.7180 - val_loss: 0.6142 - val_accuracy: 0.8128\n",
      "Epoch 67/100\n",
      "206/219 [===========================>..] - ETA: 0s - loss: 0.8666 - accuracy: 0.7121\n",
      "Epoch 67: val_loss did not improve from 0.61420\n",
      "219/219 [==============================] - 1s 3ms/step - loss: 0.8695 - accuracy: 0.7111 - val_loss: 0.6333 - val_accuracy: 0.8088\n",
      "Epoch 68/100\n",
      "214/219 [============================>.] - ETA: 0s - loss: 0.8655 - accuracy: 0.7079\n",
      "Epoch 68: val_loss did not improve from 0.61420\n",
      "219/219 [==============================] - 1s 3ms/step - loss: 0.8626 - accuracy: 0.7091 - val_loss: 0.6174 - val_accuracy: 0.8168\n",
      "Epoch 69/100\n",
      "200/219 [==========================>...] - ETA: 0s - loss: 0.8675 - accuracy: 0.7130\n",
      "Epoch 69: val_loss did not improve from 0.61420\n",
      "219/219 [==============================] - 1s 3ms/step - loss: 0.8656 - accuracy: 0.7128 - val_loss: 0.6191 - val_accuracy: 0.8071\n",
      "Epoch 70/100\n",
      "204/219 [==========================>...] - ETA: 0s - loss: 0.8561 - accuracy: 0.7165\n",
      "Epoch 70: val_loss did not improve from 0.61420\n",
      "219/219 [==============================] - 1s 3ms/step - loss: 0.8592 - accuracy: 0.7161 - val_loss: 0.6198 - val_accuracy: 0.8077\n",
      "Epoch 71/100\n",
      "206/219 [===========================>..] - ETA: 0s - loss: 0.8540 - accuracy: 0.7218\n",
      "Epoch 71: val_loss did not improve from 0.61420\n",
      "219/219 [==============================] - 1s 3ms/step - loss: 0.8592 - accuracy: 0.7197 - val_loss: 0.6222 - val_accuracy: 0.8122\n",
      "Epoch 72/100\n",
      "205/219 [===========================>..] - ETA: 0s - loss: 0.8358 - accuracy: 0.7230\n",
      "Epoch 72: val_loss did not improve from 0.61420\n",
      "219/219 [==============================] - 1s 3ms/step - loss: 0.8418 - accuracy: 0.7204 - val_loss: 0.6348 - val_accuracy: 0.8014\n",
      "Epoch 73/100\n",
      "207/219 [===========================>..] - ETA: 0s - loss: 0.8757 - accuracy: 0.7114\n",
      "Epoch 73: val_loss did not improve from 0.61420\n",
      "219/219 [==============================] - 1s 3ms/step - loss: 0.8726 - accuracy: 0.7124 - val_loss: 0.6388 - val_accuracy: 0.8088\n",
      "Epoch 74/100\n",
      "203/219 [==========================>...] - ETA: 0s - loss: 0.8562 - accuracy: 0.7186\n",
      "Epoch 74: val_loss improved from 0.61420 to 0.60824, saving model to saved_models\\audio_classification.hdf5\n",
      "219/219 [==============================] - 1s 3ms/step - loss: 0.8558 - accuracy: 0.7183 - val_loss: 0.6082 - val_accuracy: 0.8214\n",
      "Epoch 75/100\n",
      "203/219 [==========================>...] - ETA: 0s - loss: 0.8577 - accuracy: 0.7223\n",
      "Epoch 75: val_loss did not improve from 0.60824\n",
      "219/219 [==============================] - 1s 3ms/step - loss: 0.8590 - accuracy: 0.7228 - val_loss: 0.6177 - val_accuracy: 0.8077\n",
      "Epoch 76/100\n",
      "205/219 [===========================>..] - ETA: 0s - loss: 0.8654 - accuracy: 0.7119\n",
      "Epoch 76: val_loss did not improve from 0.60824\n",
      "219/219 [==============================] - 1s 3ms/step - loss: 0.8620 - accuracy: 0.7130 - val_loss: 0.6430 - val_accuracy: 0.8002\n",
      "Epoch 77/100\n",
      "200/219 [==========================>...] - ETA: 0s - loss: 0.8541 - accuracy: 0.7208\n",
      "Epoch 77: val_loss did not improve from 0.60824\n",
      "219/219 [==============================] - 1s 3ms/step - loss: 0.8503 - accuracy: 0.7224 - val_loss: 0.6343 - val_accuracy: 0.8042\n",
      "Epoch 78/100\n",
      "200/219 [==========================>...] - ETA: 0s - loss: 0.8619 - accuracy: 0.7123\n",
      "Epoch 78: val_loss did not improve from 0.60824\n",
      "219/219 [==============================] - 1s 3ms/step - loss: 0.8595 - accuracy: 0.7134 - val_loss: 0.6150 - val_accuracy: 0.8157\n",
      "Epoch 79/100\n",
      "205/219 [===========================>..] - ETA: 0s - loss: 0.8567 - accuracy: 0.7223\n",
      "Epoch 79: val_loss did not improve from 0.60824\n",
      "219/219 [==============================] - 1s 3ms/step - loss: 0.8581 - accuracy: 0.7233 - val_loss: 0.6215 - val_accuracy: 0.8105\n",
      "Epoch 80/100\n",
      "200/219 [==========================>...] - ETA: 0s - loss: 0.8477 - accuracy: 0.7233\n",
      "Epoch 80: val_loss improved from 0.60824 to 0.60741, saving model to saved_models\\audio_classification.hdf5\n",
      "219/219 [==============================] - 1s 3ms/step - loss: 0.8437 - accuracy: 0.7240 - val_loss: 0.6074 - val_accuracy: 0.8191\n",
      "Epoch 81/100\n",
      "213/219 [============================>.] - ETA: 0s - loss: 0.8691 - accuracy: 0.7126\n",
      "Epoch 81: val_loss did not improve from 0.60741\n",
      "219/219 [==============================] - 1s 3ms/step - loss: 0.8689 - accuracy: 0.7128 - val_loss: 0.6464 - val_accuracy: 0.8054\n",
      "Epoch 82/100\n",
      "209/219 [===========================>..] - ETA: 0s - loss: 0.8671 - accuracy: 0.7219\n",
      "Epoch 82: val_loss did not improve from 0.60741\n",
      "219/219 [==============================] - 1s 3ms/step - loss: 0.8620 - accuracy: 0.7228 - val_loss: 0.6148 - val_accuracy: 0.8163\n",
      "Epoch 83/100\n",
      "213/219 [============================>.] - ETA: 0s - loss: 0.8519 - accuracy: 0.7151\n",
      "Epoch 83: val_loss did not improve from 0.60741\n",
      "219/219 [==============================] - 1s 3ms/step - loss: 0.8506 - accuracy: 0.7161 - val_loss: 0.6278 - val_accuracy: 0.8145\n",
      "Epoch 84/100\n",
      "203/219 [==========================>...] - ETA: 0s - loss: 0.8631 - accuracy: 0.7186\n",
      "Epoch 84: val_loss did not improve from 0.60741\n",
      "219/219 [==============================] - 1s 3ms/step - loss: 0.8588 - accuracy: 0.7198 - val_loss: 0.6392 - val_accuracy: 0.8094\n",
      "Epoch 85/100\n",
      "212/219 [============================>.] - ETA: 0s - loss: 0.8609 - accuracy: 0.7120\n",
      "Epoch 85: val_loss did not improve from 0.60741\n",
      "219/219 [==============================] - 1s 3ms/step - loss: 0.8578 - accuracy: 0.7125 - val_loss: 0.6223 - val_accuracy: 0.8168\n",
      "Epoch 86/100\n",
      "219/219 [==============================] - ETA: 0s - loss: 0.8503 - accuracy: 0.7190\n",
      "Epoch 86: val_loss did not improve from 0.60741\n",
      "219/219 [==============================] - 1s 3ms/step - loss: 0.8503 - accuracy: 0.7190 - val_loss: 0.6322 - val_accuracy: 0.8054\n",
      "Epoch 87/100\n",
      "204/219 [==========================>...] - ETA: 0s - loss: 0.8599 - accuracy: 0.7160\n",
      "Epoch 87: val_loss did not improve from 0.60741\n",
      "219/219 [==============================] - 1s 3ms/step - loss: 0.8634 - accuracy: 0.7147 - val_loss: 0.6181 - val_accuracy: 0.8122\n",
      "Epoch 88/100\n",
      "206/219 [===========================>..] - ETA: 0s - loss: 0.8742 - accuracy: 0.7078\n",
      "Epoch 88: val_loss did not improve from 0.60741\n",
      "219/219 [==============================] - 1s 3ms/step - loss: 0.8717 - accuracy: 0.7082 - val_loss: 0.6198 - val_accuracy: 0.8151\n",
      "Epoch 89/100\n",
      "206/219 [===========================>..] - ETA: 0s - loss: 0.8449 - accuracy: 0.7192\n",
      "Epoch 89: val_loss did not improve from 0.60741\n",
      "219/219 [==============================] - 1s 3ms/step - loss: 0.8481 - accuracy: 0.7177 - val_loss: 0.6117 - val_accuracy: 0.8105\n",
      "Epoch 90/100\n",
      "202/219 [==========================>...] - ETA: 0s - loss: 0.8588 - accuracy: 0.7181\n",
      "Epoch 90: val_loss did not improve from 0.60741\n",
      "219/219 [==============================] - 1s 3ms/step - loss: 0.8598 - accuracy: 0.7184 - val_loss: 0.6231 - val_accuracy: 0.8042\n",
      "Epoch 91/100\n",
      "214/219 [============================>.] - ETA: 0s - loss: 0.8423 - accuracy: 0.7228\n",
      "Epoch 91: val_loss improved from 0.60741 to 0.60252, saving model to saved_models\\audio_classification.hdf5\n",
      "219/219 [==============================] - 1s 3ms/step - loss: 0.8454 - accuracy: 0.7221 - val_loss: 0.6025 - val_accuracy: 0.8203\n",
      "Epoch 92/100\n",
      "212/219 [============================>.] - ETA: 0s - loss: 0.8172 - accuracy: 0.7283\n",
      "Epoch 92: val_loss did not improve from 0.60252\n",
      "219/219 [==============================] - 1s 3ms/step - loss: 0.8144 - accuracy: 0.7293 - val_loss: 0.6137 - val_accuracy: 0.8134\n",
      "Epoch 93/100\n",
      "216/219 [============================>.] - ETA: 0s - loss: 0.8471 - accuracy: 0.7240\n",
      "Epoch 93: val_loss did not improve from 0.60252\n",
      "219/219 [==============================] - 1s 3ms/step - loss: 0.8489 - accuracy: 0.7233 - val_loss: 0.6265 - val_accuracy: 0.8094\n",
      "Epoch 94/100\n",
      "212/219 [============================>.] - ETA: 0s - loss: 0.8548 - accuracy: 0.7162\n",
      "Epoch 94: val_loss did not improve from 0.60252\n",
      "219/219 [==============================] - 1s 3ms/step - loss: 0.8530 - accuracy: 0.7181 - val_loss: 0.6268 - val_accuracy: 0.8077\n",
      "Epoch 95/100\n",
      "218/219 [============================>.] - ETA: 0s - loss: 0.8670 - accuracy: 0.7180\n",
      "Epoch 95: val_loss did not improve from 0.60252\n",
      "219/219 [==============================] - 1s 3ms/step - loss: 0.8677 - accuracy: 0.7178 - val_loss: 0.6191 - val_accuracy: 0.8100\n",
      "Epoch 96/100\n",
      "214/219 [============================>.] - ETA: 0s - loss: 0.8558 - accuracy: 0.7129\n",
      "Epoch 96: val_loss did not improve from 0.60252\n",
      "219/219 [==============================] - 1s 3ms/step - loss: 0.8560 - accuracy: 0.7130 - val_loss: 0.6143 - val_accuracy: 0.8145\n",
      "Epoch 97/100\n",
      "206/219 [===========================>..] - ETA: 0s - loss: 0.8585 - accuracy: 0.7157\n",
      "Epoch 97: val_loss did not improve from 0.60252\n",
      "219/219 [==============================] - 1s 3ms/step - loss: 0.8572 - accuracy: 0.7165 - val_loss: 0.6179 - val_accuracy: 0.8163\n",
      "Epoch 98/100\n",
      "215/219 [============================>.] - ETA: 0s - loss: 0.8553 - accuracy: 0.7170\n",
      "Epoch 98: val_loss did not improve from 0.60252\n",
      "219/219 [==============================] - 1s 3ms/step - loss: 0.8542 - accuracy: 0.7174 - val_loss: 0.6087 - val_accuracy: 0.8140\n",
      "Epoch 99/100\n",
      "217/219 [============================>.] - ETA: 0s - loss: 0.8788 - accuracy: 0.7054\n",
      "Epoch 99: val_loss did not improve from 0.60252\n",
      "219/219 [==============================] - 1s 3ms/step - loss: 0.8790 - accuracy: 0.7052 - val_loss: 0.6365 - val_accuracy: 0.8048\n",
      "Epoch 100/100\n",
      "218/219 [============================>.] - ETA: 0s - loss: 0.8591 - accuracy: 0.7155\n",
      "Epoch 100: val_loss did not improve from 0.60252\n",
      "219/219 [==============================] - 1s 3ms/step - loss: 0.8590 - accuracy: 0.7154 - val_loss: 0.6238 - val_accuracy: 0.8105\n",
      "Total Training Time:  0:00:59.986078\n"
     ]
    }
   ],
   "source": [
    "\n",
    "'''\n",
    "num_epochs = 100\n",
    "num_batch = 32\n",
    "\n",
    "checkpoint = ModelCheckpoint(filepath='saved_models/audio_classification.hdf5', verbose=1, save_best_only=True)\n",
    "start = datetime.now()\n",
    "\n",
    "model.fit(X_train, y_train, batch_size=num_batch, epochs=num_epochs, validation_data=(X_test,y_test), callbacks=[checkpoint])\n",
    "\n",
    "duration = datetime.now() - start\n",
    "print(\"Total Training Time: \",duration)\n",
    "'''"
   ]
  },
  {
   "cell_type": "code",
   "execution_count": 119,
   "id": "0add8669",
   "metadata": {},
   "outputs": [
    {
     "data": {
      "text/plain": [
       "0.8105323314666748"
      ]
     },
     "execution_count": 119,
     "metadata": {},
     "output_type": "execute_result"
    }
   ],
   "source": [
    "'''test_accuracy = model.evaluate(X_test, y_test, verbose=0)\n",
    "test_accuracy[1]'''"
   ]
  },
  {
   "cell_type": "code",
   "execution_count": 106,
   "id": "721d0972",
   "metadata": {},
   "outputs": [
    {
     "name": "stdout",
     "output_type": "stream",
     "text": [
      "1/1 [==============================] - 0s 31ms/step\n",
      "[2]\n"
     ]
    },
    {
     "data": {
      "text/plain": [
       "array(['children_playing'], dtype='<U16')"
      ]
     },
     "execution_count": 106,
     "metadata": {},
     "output_type": "execute_result"
    }
   ],
   "source": [
    "'''filenames = 'UrbanSound8K/mixkit-laser-weapon-shot-1681.wav'\n",
    "audio_data = feature_extractor(filenames)\n",
    "audio_data = audio_data.reshape(1,-1)\n",
    "predicted_label = np.argmax(model.predict(audio_data), axis=-1)\n",
    "print(predicted_label)\n",
    "predicted_class = labelencoder.inverse_transform(predicted_label)\n",
    "predicted_class'''"
   ]
  },
  {
   "cell_type": "code",
   "execution_count": null,
   "id": "7c3c61d3",
   "metadata": {},
   "outputs": [],
   "source": []
  },
  {
   "cell_type": "code",
   "execution_count": null,
   "id": "b6e383d2",
   "metadata": {},
   "outputs": [],
   "source": []
  }
 ],
 "metadata": {
  "kernelspec": {
   "display_name": "Python 3 (ipykernel)",
   "language": "python",
   "name": "python3"
  },
  "language_info": {
   "codemirror_mode": {
    "name": "ipython",
    "version": 3
   },
   "file_extension": ".py",
   "mimetype": "text/x-python",
   "name": "python",
   "nbconvert_exporter": "python",
   "pygments_lexer": "ipython3",
   "version": "3.9.12"
  }
 },
 "nbformat": 4,
 "nbformat_minor": 5
}
